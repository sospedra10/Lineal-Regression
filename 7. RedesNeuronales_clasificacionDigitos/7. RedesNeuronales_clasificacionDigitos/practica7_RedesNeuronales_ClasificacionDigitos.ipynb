{
 "cells": [
  {
   "cell_type": "markdown",
   "metadata": {
    "deletable": false,
    "editable": false,
    "nbgrader": {
     "checksum": "c37fe422b18d696f22bb90525195124a",
     "grade": false,
     "grade_id": "cell-476efbc31e49e36c",
     "locked": true,
     "schema_version": 1,
     "solution": false
    }
   },
   "source": [
    "# Aprendizaje Formal\n",
    "\n",
    "## Práctica 7: Redes neuronales y clasificación de dígitos\n",
    "\n",
    "En esta práctica vamos a tratar con el problema de reconocimiento de dígitos para lo cual implementaremos una red neuronal, con la propagación hacia adelante y hacia atrás. Además, implementaremos las versiones con y sin regularización de la función de coste y la inicialización aleatoria de los pesos. Finalmente, utilizaremos la red para realizar predicciones.\n",
    "\n",
    "## Índice de la práctica\n",
    "\n",
    "- [Lectura y visualización de datos](#Lectura-y-visualización-de-datos)\n",
    "- [Implementación de una Red Neuronal Multicapa](#Implementación-de-una-Red-Neuronal-Multicapa)\n",
    "- [Propagación hacia adelante (feed-forward)](#Propagación-hacia-adelante---feed-forward)\n",
    "    - [Función de coste](#Función-de-coste)\n",
    "    - [Función de coste con regularización](#Función-de-coste-con-regularización)\n",
    "    - [Propagación hacia atrás (backpropagation)](#Propagación-hacia-atrás---backpropagation )\n",
    "    - [Propagación hacia atrás (backpropagation) con regularización](#Propagación-hacia-atrás---backpropagation---con-regularización)\n",
    "- [Entrenamiento de la red y clasificación](#Entrenamiento-de-la-red-y-clasificación)\n",
    "- [Tarea opcional](#Tarea-opcional)\n",
    "\n"
   ]
  },
  {
   "cell_type": "markdown",
   "metadata": {
    "deletable": false,
    "editable": false,
    "nbgrader": {
     "checksum": "c30b7f1e5a3b62ff65f88f4e46245ffb",
     "grade": false,
     "grade_id": "cell-70812eca49f2cc7b",
     "locked": true,
     "schema_version": 1,
     "solution": false
    }
   },
   "source": [
    "## Lectura y visualización de datos\n",
    "\n",
    "El conjunto de datos está disponible en el fichero `ex7data` que como siempre leeremos con `loadtxt` (delimitado por comas). El conjunto de datos tiene 5000 ejemplos. La última columna contiene la clase (los dígitos de 0 a 9)."
   ]
  },
  {
   "cell_type": "code",
   "execution_count": 1,
   "metadata": {
    "deletable": false,
    "nbgrader": {
     "checksum": "48d977db2495cbdbb1a269b947497725",
     "grade": false,
     "grade_id": "cell-9d0db22a4f8bfcab",
     "locked": false,
     "schema_version": 1,
     "solution": true
    }
   },
   "outputs": [
    {
     "name": "stdout",
     "output_type": "stream",
     "text": [
      "(5000, 400) (5000, 1)\n"
     ]
    }
   ],
   "source": [
    "import numpy as np\n",
    "import pandas as pd\n",
    "import matplotlib.pyplot as plt\n",
    "%matplotlib inline\n",
    "\n",
    "from test_helper import Test\n",
    "\n",
    "\n",
    "# Lee los datos y guárdalos en data\n",
    "data = np.loadtxt('ex7data.txt', delimiter=',')\n",
    "X = data[:, :-1]\n",
    "y = data[:, -1].reshape(-1, 1)\n",
    "print(X.shape, y.shape)"
   ]
  },
  {
   "cell_type": "markdown",
   "metadata": {
    "deletable": false,
    "editable": false,
    "nbgrader": {
     "checksum": "a39daeb19885e25ed792aa3cbd5ba50f",
     "grade": false,
     "grade_id": "cell-0df64d79afc706cc",
     "locked": true,
     "schema_version": 1,
     "solution": false
    }
   },
   "source": [
    "Para comprender mejor el problema con el que tratamos, vamos a comenzar mostrando los ejemplos que tenemos. Cada ejemplo está formado por 400 características, que son realmente las intensidades de cada píxel de una imagen de 20x20. Vamos a comprobar que esto es así mostrando diez ejemplos aleatorios (puedes ejecutar varias veces el código para ver diferentes ejemplos). En el título, aparece la clase real del ejemplo en cuestión."
   ]
  },
  {
   "cell_type": "code",
   "execution_count": 143,
   "metadata": {},
   "outputs": [
    {
     "data": {
      "image/png": "[encoded data removed]",
      "text/plain": [
       "<Figure size 1440x144 with 9 Axes>"
      ]
     },
     "metadata": {
      "needs_background": "light"
     },
     "output_type": "display_data"
    }
   ],
   "source": [
    "plt.figure(figsize=(20,2))\n",
    "\n",
    "for degree in range(9):\n",
    "    plt.subplot(191+degree)\n",
    "    index = np.random.randint(0, X.shape[0])\n",
    "    img = X[index, :].reshape(20, 20, order='F')\n",
    "    plt.imshow(img, cmap=plt.cm.gray)\n",
    "    plt.title(y[index])\n",
    "    plt.axis('off')\n",
    "plt.show()"
   ]
  },
  {
   "cell_type": "markdown",
   "metadata": {
    "deletable": false,
    "editable": false,
    "nbgrader": {
     "checksum": "862f034b12c5cd69a731c3100c719bfd",
     "grade": false,
     "grade_id": "cell-bd422c8ea04c2d4c",
     "locked": true,
     "schema_version": 1,
     "solution": false
    }
   },
   "source": [
    "¿Seremos capaces de entrenar una red que pueda distinguir el dígito que aparece en la imagen? Lo veremos a lo largo de la práctica."
   ]
  },
  {
   "cell_type": "markdown",
   "metadata": {
    "deletable": false,
    "editable": false,
    "nbgrader": {
     "checksum": "2d94160cbfbb840ebed57ed055791f6a",
     "grade": false,
     "grade_id": "cell-67121f9abe49b40d",
     "locked": true,
     "schema_version": 1,
     "solution": false
    }
   },
   "source": [
    "# Implementación de una Red Neuronal Multicapa"
   ]
  },
  {
   "cell_type": "markdown",
   "metadata": {
    "deletable": false,
    "editable": false,
    "nbgrader": {
     "checksum": "5522e6cf891d365b76216c54c7834057",
     "grade": false,
     "grade_id": "cell-b37b12e0aa632694",
     "locked": true,
     "schema_version": 1,
     "solution": false
    }
   },
   "source": [
    "Como hemos visto en teoría, para trabajar con problemas multi-clase con redes neuronales necesitamos transformar la salida que es un solo valor (la clase) a un vector de 0s y 1s, en donde el 1 en la posición correspondiente nos indique a qué clase pertenece el ejemplo. Esto es necesario ya que vamos a tener una neurona de salida para cada una de las clases.\n",
    "\n",
    "Para lograr esta transformación vamos a usar el método OneHotEncoder de scikit, que hace precísamente esa tarea. One-hot enconding convierte una etiqueta de clase $n$ (de entre $k$ clases) en un vector de longitud $k$ donde el índice $n$ está \"hot\" (activado, es decir, a 1), mientras que el resto están a 0."
   ]
  },
  {
   "cell_type": "code",
   "execution_count": 3,
   "metadata": {
    "deletable": false,
    "nbgrader": {
     "checksum": "83825254a3be6a35bb2d221d0e6316a3",
     "grade": false,
     "grade_id": "cell-117facd4b78f3b97",
     "locked": false,
     "schema_version": 1,
     "solution": true
    }
   },
   "outputs": [
    {
     "name": "stdout",
     "output_type": "stream",
     "text": [
      "(5000, 10)\n",
      "[0.] [1. 0. 0. 0. 0. 0. 0. 0. 0. 0.]\n"
     ]
    }
   ],
   "source": [
    "from sklearn.preprocessing import OneHotEncoder\n",
    "encoder = OneHotEncoder(sparse=False)\n",
    "# Aplica el fit_transform de scikit a y para obtener el nuevo y_onehot\n",
    "y_onehot = encoder.fit_transform(y)\n",
    "print(y_onehot.shape)\n",
    "print(y[0], y_onehot[0,:])"
   ]
  },
  {
   "cell_type": "code",
   "execution_count": 4,
   "metadata": {
    "deletable": false,
    "editable": false,
    "nbgrader": {
     "checksum": "acd350025555ef85f445fb7f266f9a54",
     "grade": true,
     "grade_id": "cell-b1de80f014675282",
     "locked": true,
     "points": 2,
     "schema_version": 1,
     "solution": false
    }
   },
   "outputs": [
    {
     "name": "stdout",
     "output_type": "stream",
     "text": [
      "1 test passed.\n"
     ]
    }
   ],
   "source": [
    "Test.assertEquals(list(y_onehot[0,:]), [ 1.,  0.,  0.,  0.,  0.,  0.,  0.,  0.,  0.,  0.], 'One-hot encoding incorrecto')"
   ]
  },
  {
   "cell_type": "markdown",
   "metadata": {
    "deletable": false,
    "editable": false,
    "nbgrader": {
     "checksum": "83acb2d9447531c3eb473b7acda8fa06",
     "grade": false,
     "grade_id": "cell-82335ea2d56a0d82",
     "locked": true,
     "schema_version": 1,
     "solution": false
    }
   },
   "source": [
    "La red neuronal que vamos a construir para este ejercicio tiene tantas neuronas de entrada como características tienen nuestros ejemplos (400 + la unidad de bias). La capa oculta tendrá 25 neuronas (26 con el bias), y la capa de salida tendrá 10 neuronas, que cada una de ellas corresponde a una de las clases. \n",
    "\n",
    "Lo primero que debemos haces es implementar la función de coste para evaluar el coste para un conjunto de parámetros dado. Para ello, primero necesitamos aplicar la propagación hacia adelante, que nos de la salida para cada ejemplo de entrada.\n",
    "\n",
    "Vamos por pasos. Comenzamos implementando la función sigmoide.\n",
    "\n",
    "$$ g(z) = \\frac{1}{1+e^{-z}} $$"
   ]
  },
  {
   "cell_type": "code",
   "execution_count": 5,
   "metadata": {
    "deletable": false,
    "nbgrader": {
     "checksum": "522cfb37ffc81ba643dc903118b1ecd2",
     "grade": false,
     "grade_id": "cell-5a65cf54911a625d",
     "locked": false,
     "schema_version": 1,
     "solution": true
    }
   },
   "outputs": [],
   "source": [
    "def sigmoid(z):\n",
    "    return 1 / (1 + np.exp(-z))"
   ]
  },
  {
   "cell_type": "markdown",
   "metadata": {
    "deletable": false,
    "editable": false,
    "nbgrader": {
     "checksum": "253427f7266bd0e945c3183bcde282e5",
     "grade": false,
     "grade_id": "cell-bae6c37619ac7bdb",
     "locked": true,
     "schema_version": 1,
     "solution": false
    }
   },
   "source": [
    "## Propagación hacia adelante - feed-forward\n",
    "A continuación, vamos a calcular la propagación hacia adelante. Para ello, recibimos la matriz con los datos $X$ y las dos matrices de pesos $\\Theta^{(1)}$ y $\\Theta^{(2)}$ (los pesos entre la capa de entrada y la capa oculta y los pesos entre la capa oculta y la de salida, respectivamente).\n",
    "\n",
    "Debemos seguir los siguientes pasos:\n",
    "1. Añadir el bias a todos los ejemplos de $X$ (la primera columna de 1s). Obtenemos $a^{(1)}$\n",
    "2. Obtenemos $z^{(2)}=a^{(1)}·\\Theta^{(1)}$\n",
    "3. Obtenemos $a^{(2)}$ a partir de $z^{(2)}$ aplicando la sigmoide ($a^{(2)}=g(z^{(2)})$  y le añadimos el bias (primera columna de 1s).\n",
    "4. Obtenemos $z^{(3)}=a^{(2)}·\\Theta^{(2)}$\n",
    "5. Obtenemos $h_{\\Theta}(X)=g(z^{(3)})$\n",
    "\n",
    "En $h_{\\Theta}(X)$ tenemos por tanto una matriz de $5000\\times 10$ con las salidas de las 10 neuronas para cada uno de los 5000 ejemplos. La siguiente figura clarifica el proceso.\n",
    "![Feed Forward](img_forward.png)"
   ]
  },
  {
   "cell_type": "code",
   "execution_count": 6,
   "metadata": {
    "deletable": false,
    "nbgrader": {
     "checksum": "1b77509b64da76f3adfa481412c49845",
     "grade": false,
     "grade_id": "cell-4e4237bb30dcb4cc",
     "locked": false,
     "schema_version": 1,
     "solution": true
    }
   },
   "outputs": [],
   "source": [
    "def forward_propagate(X, theta1, theta2):\n",
    "    m = X.shape[0]\n",
    "    \n",
    "    # Añadimos la columna de unos a X para obtener a1\n",
    "    a1 = np.hstack((np.ones((m, 1)), X))\n",
    "    # Calculamos z2 -> ten en cuenta que a1 tiene tantas filas como ejemplos y columnas como atributos + 1\n",
    "    # Por otro lado, theta1 tiene tantas filas como neuronas en la capa oculta y columnas como atributos + 1\n",
    "    z2 = np.dot(a1, theta1.T)\n",
    "    # Añadimos la columna de unos a la sigmoide de z2 (que es a2) para obtener el a2 definitivo\n",
    "    a2 = np.hstack((np.ones((z2.shape[0], 1)), sigmoid(z2)))\n",
    "    # Calculamos z3\n",
    "    z3 = np.dot(a2, theta2.T)\n",
    "    # Obtenemos la salida final en h\n",
    "    h = sigmoid(z3)\n",
    "    \n",
    "    return a1, z2, a2, z3, h"
   ]
  },
  {
   "cell_type": "markdown",
   "metadata": {
    "deletable": false,
    "editable": false,
    "nbgrader": {
     "checksum": "3d0058be996849f40c2c567871b209f3",
     "grade": false,
     "grade_id": "cell-35afd1753339e852",
     "locked": true,
     "schema_version": 1,
     "solution": false
    }
   },
   "source": [
    "## Función de coste "
   ]
  },
  {
   "cell_type": "markdown",
   "metadata": {
    "deletable": false,
    "editable": false,
    "nbgrader": {
     "checksum": "f0ee9119b381f01cd772104d63fc44bb",
     "grade": false,
     "grade_id": "cell-17344543896d1dc2",
     "locked": true,
     "schema_version": 1,
     "solution": false
    }
   },
   "source": [
    "Con la propagación hacia adelante, ya podemos calcular la función de coste:\n",
    "$$ J(\\theta) = \\frac{1}{m}\\sum_{i=1}^{m}\\sum_{k=1}^{K}\\big[-y^{(i)}_{k}\\, log\\,(( h_\\theta\\,(x^{(i)}))_k)-(1-y^{(i)}_k)\\,log\\,(1-h_\\theta(x^{(i)}))_k)\\big]$$\n",
    "\n",
    "Aquí debemos tener cuidado porque para utilizar la función `minimize` de scipy, los parámetros $\\Theta^{(1)}$ y $\\Theta^{(2)}$ nos llegan en un único parámetro `params` y debemos desempaquetarlas. Además, hay que tener en cuenta que $y$ es una matriz de ejemplos x número de clases (5000x10 en este caso). Y por tanto, la salida que nos da la propagación hacia adelante que será de 5000x10 y la $y$ serán directamente comparables. La función de coste nos da una estimación de cómo de poco parecidas son $y$ y $h_\\Theta(X)$."
   ]
  },
  {
   "cell_type": "code",
   "execution_count": 36,
   "metadata": {
    "deletable": false,
    "nbgrader": {
     "checksum": "98b38176a1863ab27946649c15f6ba77",
     "grade": false,
     "grade_id": "cell-23a91f17841c9ea3",
     "locked": false,
     "schema_version": 1,
     "solution": true
    }
   },
   "outputs": [],
   "source": [
    "def cost(params, input_size, hidden_size, num_labels, X, y):\n",
    "    m = X.shape[0]\n",
    "    # Utilizamos las matrices de numpy por facilidad: * es el producto de matrices y np.multiply elemento por elemento\n",
    "    X = np.matrix(X)\n",
    "    y = np.matrix(y)\n",
    "    \n",
    "    # desempaquetamos las matrices con los parámetros para cada capa\n",
    "    theta1 = np.matrix(np.reshape(params[:hidden_size * (input_size + 1)], (hidden_size, (input_size + 1))))\n",
    "    theta2 = np.matrix(np.reshape(params[hidden_size * (input_size + 1):], (num_labels, (hidden_size + 1))))\n",
    "    \n",
    "    # Ejecutamos las propagación hacia adelante para obtener las salidas para cada ejemplo\n",
    "    a1, z2, a2, z3, h = forward_propagate(X, theta1, theta2)\n",
    "    \n",
    "    # Calculamos el coste\n",
    "    J = -1 / m * np.sum(np.multiply(y, np.log(h)) + np.multiply((1 - y), np.log(1 - h)))\n",
    "    \n",
    "    return J"
   ]
  },
  {
   "cell_type": "markdown",
   "metadata": {
    "deletable": false,
    "editable": false,
    "nbgrader": {
     "checksum": "10edd2c11ef090bdd14c324639bdedb6",
     "grade": false,
     "grade_id": "cell-d5ba4c2d7d48c96a",
     "locked": true,
     "schema_version": 1,
     "solution": false
    }
   },
   "source": [
    "Vamos a comprobar que lo  implementado hasta ahora funciona correctamente (también devolvemos los pasos intermedio porque serán útiles más adelante)."
   ]
  },
  {
   "cell_type": "code",
   "execution_count": 50,
   "metadata": {
    "deletable": false,
    "editable": false,
    "nbgrader": {
     "checksum": "1e5685059cb9c029eb14bb0ca0a4baa3",
     "grade": false,
     "grade_id": "cell-6a8a466c72d04b6d",
     "locked": true,
     "schema_version": 1,
     "solution": false
    }
   },
   "outputs": [
    {
     "data": {
      "text/plain": [
       "((25, 401), (10, 26))"
      ]
     },
     "execution_count": 50,
     "metadata": {},
     "output_type": "execute_result"
    }
   ],
   "source": [
    "# Configuración inicial\n",
    "input_size = 400\n",
    "hidden_size = 25\n",
    "num_labels = 10\n",
    "np.random.seed(123456789)\n",
    "\n",
    "# Inicializamos los parámetros de la red aleatoriamente\n",
    "# El tamaño del array es el tamaño de las dos matrices de pesos concatenadas\n",
    "params = (np.random.random(size=hidden_size * (input_size + 1) + num_labels * (hidden_size + 1)) - 0.5) * 0.25\n",
    "\n",
    "# Podemos desempaquetar los parámetros que acabamos de inicializar igual que lo hacemos en la función de coste\n",
    "theta1 = np.matrix(np.reshape(params[:hidden_size * (input_size + 1)], (hidden_size, (input_size + 1))))\n",
    "theta2 = np.matrix(np.reshape(params[hidden_size * (input_size + 1):], (num_labels, (hidden_size + 1))))\n",
    "\n",
    "# Veamos si los tamaños de las matrices theta1 y theta2 son correctos\n",
    "theta1.shape, theta2.shape"
   ]
  },
  {
   "cell_type": "code",
   "execution_count": 30,
   "metadata": {
    "deletable": false,
    "editable": false,
    "nbgrader": {
     "checksum": "9917f6893400a4b92dba539c8f077697",
     "grade": true,
     "grade_id": "cell-ed08a3bbaa589a12",
     "locked": true,
     "points": 3,
     "schema_version": 1,
     "solution": false
    }
   },
   "outputs": [
    {
     "name": "stdout",
     "output_type": "stream",
     "text": [
      "(5000, 401) (5000, 25) (5000, 26) (5000, 10) (5000, 10)\n",
      "1 test passed.\n"
     ]
    }
   ],
   "source": [
    "a1, z2, a2, z3, h = forward_propagate(X, theta1, theta2)\n",
    "print(a1.shape, z2.shape, a2.shape, z3.shape, h.shape)\n",
    "\n",
    "Test.assertEquals(list(np.round(h[55, :].tolist()[0], 4)), [ 0.4401, 0.5554, 0.3921, 0.4379,0.4063,  0.4987,  0.5222, 0.4887, 0.6124, 0.5376], 'Resultado de la propagación hacia adelante incorrecto')"
   ]
  },
  {
   "cell_type": "markdown",
   "metadata": {
    "deletable": false,
    "editable": false,
    "nbgrader": {
     "checksum": "b305236879bccd9e10bf60cb8d18d814",
     "grade": false,
     "grade_id": "cell-102dd85cf440491a",
     "locked": true,
     "schema_version": 1,
     "solution": false
    }
   },
   "source": [
    "Sabiendo que la función de propagación hacia adelante funciona correctamente, veamos si la función de coste también funciona como debe."
   ]
  },
  {
   "cell_type": "code",
   "execution_count": 37,
   "metadata": {
    "deletable": false,
    "nbgrader": {
     "checksum": "9450d0fbe7fb475f2f06c31250630476",
     "grade": false,
     "grade_id": "cell-06230cbaf0abb4f2",
     "locked": false,
     "schema_version": 1,
     "solution": true
    }
   },
   "outputs": [
    {
     "name": "stdout",
     "output_type": "stream",
     "text": [
      "6.8223773858037955\n"
     ]
    }
   ],
   "source": [
    "error = cost(params, input_size, hidden_size, num_labels, X, y_onehot)\n",
    "print(error)"
   ]
  },
  {
   "cell_type": "code",
   "execution_count": 38,
   "metadata": {
    "deletable": false,
    "editable": false,
    "nbgrader": {
     "checksum": "6f088709f49083ac65d23e46722a2415",
     "grade": true,
     "grade_id": "cell-34303285dbc56737",
     "locked": true,
     "points": 3,
     "schema_version": 1,
     "solution": false
    }
   },
   "outputs": [
    {
     "name": "stdout",
     "output_type": "stream",
     "text": [
      "1 test passed.\n"
     ]
    }
   ],
   "source": [
    "Test.assertEquals(round(error, 4), 6.8224, 'Función de coste incorrecta')"
   ]
  },
  {
   "cell_type": "markdown",
   "metadata": {
    "deletable": false,
    "editable": false,
    "nbgrader": {
     "checksum": "6fea91631374c4d82c3cd6d05baf482d",
     "grade": false,
     "grade_id": "cell-961b9ef5508098e1",
     "locked": true,
     "schema_version": 1,
     "solution": false
    }
   },
   "source": [
    "## Función de coste con regularización"
   ]
  },
  {
   "cell_type": "markdown",
   "metadata": {
    "deletable": false,
    "editable": false,
    "nbgrader": {
     "checksum": "3bed46cca2429583aa0b5580353e8b5c",
     "grade": false,
     "grade_id": "cell-7660c36a4b71b235",
     "locked": true,
     "schema_version": 1,
     "solution": false
    }
   },
   "source": [
    "Una vez implementada la función de coste sin regularización, vamos a pasar a la versión regularizada. Realmente el único cambio es que debemos sumar la parte correspondiente a la regularización (la suma de los parámetros al cuadrado sin contar los que corresponden a los bias).\n",
    "\n",
    "$$ J(\\theta) = \\frac{1}{m}\\sum_{i=1}^{m}\\sum_{k=1}^{K}\\bigg[-y^{(i)}_{k}\\, log\\,(( h_\\theta\\,(x^{(i)}))_k)-(1-y^{(i)}_k)\\,log\\,(1-h_\\theta(x^{(i)}))_k)\\bigg] + \\frac{\\lambda}{2m}\\bigg[\\sum_{j=1}^{25}\\sum_{k=1}^{400}(\\Theta_{j,k}^{(1)})^2+\\sum_{j=1}^{10}\\sum_{k=1}^{25}(\\Theta_{j,k}^{(2)})^2\\bigg]$$"
   ]
  },
  {
   "cell_type": "code",
   "execution_count": 52,
   "metadata": {
    "deletable": false,
    "nbgrader": {
     "checksum": "626a7bff839980727758e02aba343fc2",
     "grade": false,
     "grade_id": "cell-41384dfbbe6cc6e0",
     "locked": false,
     "schema_version": 1,
     "solution": true
    }
   },
   "outputs": [],
   "source": [
    "def costReg(params, input_size, hidden_size, num_labels, X, y, lambda_reg):\n",
    "    m = X.shape[0]\n",
    "    # Utilizamos las matrices de numpy por facilidad: * es el producto de matrices y np.multiply elemento por elemento\n",
    "    X = np.matrix(X)\n",
    "    y = np.matrix(y)\n",
    "    \n",
    "    # desempaquetamos las matrices con los parámetros para cada capa, obtener theta1 y theta2\n",
    "    theta1 = np.matrix(np.reshape(params[:hidden_size * (input_size + 1)], (hidden_size, (input_size + 1))))\n",
    "    theta2 = np.matrix(np.reshape(params[hidden_size * (input_size + 1):], (num_labels, (hidden_size + 1))))\n",
    "    \n",
    "    # Ejecutamos las propagación hacia adelante para obtener las salidas para cada ejemplo\n",
    "    a1, z2, a2, z3, h = forward_propagate(X, theta1, theta2)\n",
    "    \n",
    "    # Calculamos el coste\n",
    "    # Añadir a lo implementado anteriormente el término de regularización\n",
    "    # Es decir, la suma de los parámetros al cuadrado sin considerar la primera columna en ninguna de las dos matrices de parámetros\n",
    "    reg = lambda_reg / (2 * m) * (np.sum(np.square(theta1[:, 1:])) + np.sum(np.square(theta2[:, 1:])) )\n",
    "    J = -1 / m * np.sum(np.multiply(y, np.log(h)) + np.multiply((1 - y), np.log(1 - h))) + reg\n",
    "    \n",
    "    return J"
   ]
  },
  {
   "cell_type": "code",
   "execution_count": 53,
   "metadata": {
    "deletable": false,
    "nbgrader": {
     "checksum": "61af351b888975d01952bd7ae90c5f6b",
     "grade": false,
     "grade_id": "cell-0c03b081d0f16e17",
     "locked": false,
     "schema_version": 1,
     "solution": true
    }
   },
   "outputs": [
    {
     "name": "stdout",
     "output_type": "stream",
     "text": [
      "6.827724308940754\n"
     ]
    }
   ],
   "source": [
    "# Establecemos el valor de lambda\n",
    "lambda_reg = 1.0\n",
    "error = costReg(params, input_size, hidden_size, num_labels, X, y_onehot, lambda_reg)\n",
    "print(error)"
   ]
  },
  {
   "cell_type": "code",
   "execution_count": 54,
   "metadata": {
    "deletable": false,
    "editable": false,
    "nbgrader": {
     "checksum": "328a043d1087a8ad312839697b4ee164",
     "grade": true,
     "grade_id": "cell-17134a855ecdaa06",
     "locked": true,
     "points": 2,
     "schema_version": 1,
     "solution": false
    }
   },
   "outputs": [
    {
     "name": "stdout",
     "output_type": "stream",
     "text": [
      "1 test passed.\n"
     ]
    }
   ],
   "source": [
    "Test.assertEquals(round(error, 4), 6.8277, 'Función de coste incorrecta')"
   ]
  },
  {
   "cell_type": "markdown",
   "metadata": {
    "deletable": false,
    "editable": false,
    "nbgrader": {
     "checksum": "ec0e3753f8d8713c9c145bb420a54891",
     "grade": false,
     "grade_id": "cell-6dc41093b9b086ed",
     "locked": true,
     "schema_version": 1,
     "solution": false
    }
   },
   "source": [
    "## Propagación hacia atrás - backpropagation\n",
    "A continuación debemos implementar el algoritmo de backprogation (propagación hacia atrás). Esta parte del algoritmo calcula la actualización de los parámetros con el objetivo de reducir el error sobre el conjunto de entrenamiento. \n",
    "\n",
    "En primer lugar necesitamos calcular el gradiente de la función sigmoide que hemos implementado antes:\n",
    "$$ g'(z) = g(z)(1 - g(z))$$\n",
    "\n",
    "**Ten en cuenta que debes aplicar el producto elemento por elemento (con `np.multiply`).**"
   ]
  },
  {
   "cell_type": "code",
   "execution_count": 55,
   "metadata": {
    "deletable": false,
    "nbgrader": {
     "checksum": "34c0df18e4db719e8851d85906fbfd79",
     "grade": false,
     "grade_id": "cell-dea5b5a8a4287174",
     "locked": false,
     "schema_version": 1,
     "solution": true
    }
   },
   "outputs": [],
   "source": [
    "def sigmoid_gradient(z):\n",
    "    return np.multiply(sigmoid(z), 1 - sigmoid(z))"
   ]
  },
  {
   "cell_type": "markdown",
   "metadata": {
    "deletable": false,
    "editable": false,
    "nbgrader": {
     "checksum": "71d25f0d4007b338c9c560d13166562f",
     "grade": false,
     "grade_id": "cell-98c4cb4723027151",
     "locked": true,
     "schema_version": 1,
     "solution": false
    }
   },
   "source": [
    "Ahora ya podemos implementar la propagación hacia atrás para calcular los gradientes. Como los cálculos requeridos por backpropagation involucran a todos los calculos realizados en la función de coste, vamos realmente a extender la función de coste que acabamos de implementar para que también calcule la propagación hacia atrás y devuelva el coste y los gradientes (de tal forma que luego podamos usar `minimize`).\n",
    "\n",
    "![Backpropagation](img_backprop.png)\n",
    "\n",
    "**Algoritmo**\n",
    "\n",
    "Inicializamos $\\Delta^{(1)}_{ij}$ y $\\Delta^{(2)}_{ij}$ a 0 (lo utilizamos para calcular el gradiente)\n",
    "\n",
    "Para cada ejemplo $i=0,...,m$\n",
    "1. Calculamos el error en la capa de salida $$\\delta^{(3)} = h_\\Theta(x^{(i)})-y^{(i)}$$ (tener en cuenta que $y$ es un vector en este caso y por tanto tenemos el error en las 10 neuronas de salida).\n",
    "2. Calculamos el error para la capa oculta $\\delta^{(2)}$ propagando el error en la capa de salida $\\delta^{(3)}$:\n",
    "$$\\delta^{(2)}=(\\Theta^{(2)})^T·\\delta^{(3)}.*g'(z^{(2)})$$ \n",
    "Para poder aplicar la fórmula debemos añadir una columna de unos a $z^{(2)}$.\n",
    "3. Sumamos el valor del gradiente en cada caso al acumulador correspondiente\n",
    "$$\\Delta^{(l)}_{ij}=\\Delta^{(l)}_{ij}+\\delta^{(l+1)}(a^{(l)})^T$$\n",
    "Es decir,\n",
    "$$\\Delta^{(1)}_{ij}=\\Delta^{(1)}_{ij}+\\delta^{(2)}(a^{(1)})^T$$ (eliminando el primer elemento de $\\delta^{(2)}$)\n",
    "y\n",
    "$$\\Delta^{(2)}_{ij}=\\Delta^{(2)}_{ij}+\\delta^{(3)}(a^{(2)})^T$$\n",
    "\n",
    "Finalmente, solo debemos calcular los gradientes $D^{(l)}_{ij}$ como\n",
    "$$D^{(l)}_{ij}= \\frac{\\Delta^{(l)}_{ij}}{m}$$"
   ]
  },
  {
   "cell_type": "code",
   "execution_count": 107,
   "metadata": {
    "deletable": false,
    "nbgrader": {
     "checksum": "80d13d12e652d16d4d4f746125792ec9",
     "grade": false,
     "grade_id": "cell-75600a7bfd372669",
     "locked": false,
     "schema_version": 1,
     "solution": true
    }
   },
   "outputs": [],
   "source": [
    "def backprop(params, input_size, hidden_size, num_labels, X, y):\n",
    "    ###################################################################\n",
    "    # Copiar aquí el código de la función de coste sin regularización #\n",
    "    ###################################################################\n",
    "    m = X.shape[0]\n",
    "    X = np.matrix(X)\n",
    "    y = np.matrix(y)\n",
    "    \n",
    "    theta1 = np.matrix(np.reshape(params[:hidden_size * (input_size + 1)], (hidden_size, (input_size + 1))))\n",
    "    theta2 = np.matrix(np.reshape(params[hidden_size * (input_size + 1):], (num_labels, (hidden_size + 1))))\n",
    "    \n",
    "    a1, z2, a2, z3, h = forward_propagate(X, theta1, theta2)\n",
    "    \n",
    "    J = -1 / m * np.sum(np.multiply(y, np.log(h)) + np.multiply((1 - y), np.log(1 - h)))\n",
    "    \n",
    "    ############################\n",
    "    # Comienza Backpropagation #\n",
    "    ############################\n",
    "    # Inicializamos los acumuladores delta1  y delta2 a ceros, con las dismensiones de los theta1 y theta2\n",
    "    # tendrán dimensiones (25, 401) y (10, 26), respectivamente\n",
    "    delta1 = np.zeros((25, 401))\n",
    "    delta2 = np.zeros((10, 26))\n",
    "    \n",
    "    # Aunque podríamos vectorizarlo vamos a hacerlo para cada ejemplo\n",
    "    for t in range(m):\n",
    "        # Obtenemos lo que necesitamos del ejemplo (cálculos obtenidos en la propagación hacia adelante)\n",
    "        # Para usar las fórmulas tal y como aparecen, vamos a coger todos los vectores en forma columna (resahpe(-1,1))\n",
    "        a1t = a1[t,:].reshape(-1, 1)  # (401, 1)\n",
    "        z2t = z2[t,:].reshape(-1, 1)  # (25, 1)\n",
    "        a2t = a2[t,:].reshape(-1, 1)  # (26, 1)\n",
    "        ht = h[t,:].reshape(-1, 1)  # (10, 1)\n",
    "        yt = y[t,:].reshape(-1, 1)  # (10, 1)\n",
    "        \n",
    "        # Calculamos el error en la capa de salida (delta3), almacenar en d3t\n",
    "        d3t = ht - yt\n",
    "        \n",
    "        # Para calcular el error en la capa oculta (delta2) necesitamos añadir un uno al inicio del vector z2\n",
    "        # Crear z2t añadiendo a z2 el 1 \n",
    "        z2t = np.vstack((np.array([1]).reshape(-1, 1), z2t))\n",
    "        \n",
    "        # Calculamos d2 a partir del error de la capa de salida, los parámetros en theta2 y el gradiente de z2t\n",
    "        # Almacenar en d2t\n",
    "        d2t = np.multiply(np.dot(theta2.T, d3t), sigmoid_gradient(z2t))\n",
    "        \n",
    "        # Ya podemos calcular los gradientes a partir de los errores\n",
    "        # Para calcular el gradiente de los theta1, tenemos en cuenta el error en la capa oculta d2\n",
    "        # Acumular el gradiente del ejemplo en delta1 y delta2\n",
    "        delta1 = delta1 + np.dot(d2t[1:], a1t.T)\n",
    "        delta2 = delta2 + np.dot(d3t, a2t.T)\n",
    "    \n",
    "    # Calculamos el gradiente finalmente dividiendo entre el número de ejemplos\n",
    "    delta1 /= m\n",
    "    delta2 /= m\n",
    "    \n",
    "    # Para pasar los gradientes a minimize los ponemos en un vector\n",
    "    grad = np.concatenate((np.ravel(delta1), np.ravel(delta2)))\n",
    "    \n",
    "    return J, grad"
   ]
  },
  {
   "cell_type": "markdown",
   "metadata": {
    "deletable": false,
    "editable": false,
    "nbgrader": {
     "checksum": "bdc62e3df7f77d08917bb20686629da2",
     "grade": false,
     "grade_id": "cell-8cbe111b71566b23",
     "locked": true,
     "schema_version": 1,
     "solution": false
    }
   },
   "source": [
    "Uno de los aspectos donde hay que tener más cuidado es en la multiplicación de matrices y en sus dimensiones. Además, debes tener en cuenta que la diferencia entre A * B y np.multiply(A, B) es que la primera realiza el producto de matrices y la segunda el producto elemento por elemento. Recuerda que usamos el tipo `matrix` de numpy en vez de `ndarray`.\n",
    "\n",
    "Comprobemos que el resultado es el esperado."
   ]
  },
  {
   "cell_type": "code",
   "execution_count": 108,
   "metadata": {
    "deletable": false,
    "editable": false,
    "nbgrader": {
     "checksum": "82f91a71d1016d44719d79ee6267ee05",
     "grade": true,
     "grade_id": "cell-45b4f416a9b2b5d1",
     "locked": true,
     "points": 6,
     "schema_version": 1,
     "solution": false
    }
   },
   "outputs": [
    {
     "name": "stdout",
     "output_type": "stream",
     "text": [
      "6.8223773858037955 (10285,)\n",
      "1 test passed.\n"
     ]
    }
   ],
   "source": [
    "J, grad = backprop(params, input_size, hidden_size, num_labels, X, y_onehot)\n",
    "print(J, grad.shape)\n",
    "Test.assertEquals(list(np.round(grad[np.where(np.abs(grad)>0.0001)[0][:20]], 5)), \n",
    "                  [0.01986, 0.00014, 0.00018, 0.00011, 0.00023, 0.00033, 0.00037, 0.0004, 0.00046, 0.00057, \n",
    "                   0.00067, 0.00082, 0.00104, 0.00111, 0.00079, 0.00034, 0.00011, 0.00031, 0.00063, 0.00093], \n",
    "                  'Gradientes incorrectos')"
   ]
  },
  {
   "cell_type": "markdown",
   "metadata": {
    "deletable": false,
    "editable": false,
    "nbgrader": {
     "checksum": "dc5730d1f59322c1b4673c523a4b3470",
     "grade": false,
     "grade_id": "cell-86ff5121777f2b74",
     "locked": true,
     "schema_version": 1,
     "solution": false
    }
   },
   "source": [
    "## Propagación hacia atrás - backpropagation - con regularización"
   ]
  },
  {
   "cell_type": "markdown",
   "metadata": {
    "deletable": false,
    "editable": false,
    "nbgrader": {
     "checksum": "a3de63f7baa30558957899173e9bf36a",
     "grade": false,
     "grade_id": "cell-ee2aa314ac5d9e09",
     "locked": true,
     "schema_version": 1,
     "solution": false
    }
   },
   "source": [
    "Ahora queremos añadir la regularización al cáculo del gradiente. En este caso partimos de la función de coste con regularización, realizamos el mismo proceso de backpropagation y solo debemos añadir en el último paso la siguiente modificación:\n",
    "\n",
    "Si $j\\neq0$ entonces\n",
    "$$D^{(l)}_{ij}= \\frac{\\Delta^{(l)}_{ij}}{m} + \\frac{\\lambda}{m}\\Theta_{ij}^{(l)}$$\n",
    "en otro caso\n",
    "$$D^{(l)}_{ij}= \\frac{\\Delta^{(l)}_{ij}}{m}$$\n",
    "\n",
    "Es decir, a las matrices $D^{(l)}_{ij}$ que ya hemos calculado en el paso anterior, en todas las columnas menos a la primera debemos sumarle el término de regularización correspondiente."
   ]
  },
  {
   "cell_type": "code",
   "execution_count": 113,
   "metadata": {
    "deletable": false,
    "nbgrader": {
     "checksum": "13de2dfa1ff0a03812fa70820ddab751",
     "grade": false,
     "grade_id": "cell-3556dc6db938f279",
     "locked": false,
     "schema_version": 1,
     "solution": true
    }
   },
   "outputs": [],
   "source": [
    "def backpropReg(params, input_size, hidden_size, num_labels, X, y, lambda_reg):\n",
    "    ###################################################################\n",
    "    # Copiar aquí el código de la función de coste con regularización #\n",
    "    ###################################################################\n",
    "    m = X.shape[0]\n",
    "    X = np.matrix(X)\n",
    "    y = np.matrix(y)\n",
    "    \n",
    "    theta1 = np.matrix(np.reshape(params[:hidden_size * (input_size + 1)], (hidden_size, (input_size + 1))))\n",
    "    theta2 = np.matrix(np.reshape(params[hidden_size * (input_size + 1):], (num_labels, (hidden_size + 1))))\n",
    "    \n",
    "    a1, z2, a2, z3, h = forward_propagate(X, theta1, theta2)\n",
    "    \n",
    "    reg = lambda_reg / (2 * m) * (np.sum(np.square(theta1[:, 1:])) + np.sum(np.square(theta2[:, 1:])) )\n",
    "    J = -1 / m * np.sum(np.multiply(y, np.log(h)) + np.multiply((1 - y), np.log(1 - h))) + reg\n",
    "    \n",
    "     ############################\n",
    "    # Comienza Backpropagation #\n",
    "    ############################\n",
    "    # Inicializamos los acumuladores delta1  y delta2 a ceros, con las dismensiones de los theta1 y theta2\n",
    "    # tendrán dimensiones (25, 401) y (10, 26), respectivamente\n",
    "    delta1 = np.zeros((25, 401))\n",
    "    delta2 = np.zeros((10, 26))\n",
    "    \n",
    "    # Aunque podríamos vectorizarlo vamos a hacerlo para cada ejemplo\n",
    "    for t in range(m):\n",
    "        # Obtenemos lo que necesitamos del ejemplo (cálculos obtenidos en la propagación hacia adelante)\n",
    "        # Para usar las fórmulas tal y como aparecen, vamos a coger todos los vectores en forma columna (resahpe(-1,1))\n",
    "        a1t = a1[t,:].reshape(-1, 1)  # (401, 1)\n",
    "        z2t = z2[t,:].reshape(-1, 1)  # (25, 1)\n",
    "        a2t = a2[t,:].reshape(-1, 1)  # (26, 1)\n",
    "        ht = h[t,:].reshape(-1, 1)  # (10, 1)\n",
    "        yt = y[t,:].reshape(-1, 1)  # (10, 1)\n",
    "        \n",
    "        # Calculamos el error en la capa de salida (delta3), almacenar en d3t\n",
    "        d3t = ht - yt\n",
    "        \n",
    "        # Para calcular el error en la capa oculta (delta2) necesitamos añadir un uno al inicio del vector z2t\n",
    "        # Almacenar en z2t\n",
    "        z2t = np.vstack((np.array([1]).reshape(-1, 1), z2t))\n",
    "        \n",
    "        # Calculamos d2 a partir del error de la capa de salida, los parámetros en theta2 y el gradiente de z2t (guardar en d2t)\n",
    "        d2t = np.multiply(np.dot(theta2.T, d3t), sigmoid_gradient(z2t))\n",
    "        \n",
    "        # Ya podemos calcular los gradientes a partir de los errores\n",
    "        # Para calcular el gradiente de los theta1, tenemos en cuenta el error en la capa oculta d2\n",
    "        # Acumular el gradiente del ejemplo en delta1 y delta2\n",
    "        delta1 = delta1 + np.dot(d2t[1:], a1t.T)\n",
    "        delta2 = delta2 + np.dot(d3t, a2t.T)\n",
    "    \n",
    "    # Calculamos el gradiente finalmente dividiendo entre el número de ejemplos\n",
    "    delta1 /= m\n",
    "    delta2 /= m\n",
    "    \n",
    "    # Añadimos el término de regularización en delta1 y delta2 (no regularizar el bias)\n",
    "    delta1[:, 1:] += lambda_reg / m * theta1[:, 1:]\n",
    "    delta2[:, 1:] += lambda_reg / m * theta2[:, 1:]\n",
    "    \n",
    "    # Para pasar los gradientes a minimize los ponemos en un vector\n",
    "    grad = np.concatenate((np.ravel(delta1), np.ravel(delta2)))\n",
    "    \n",
    "    return J, grad"
   ]
  },
  {
   "cell_type": "code",
   "execution_count": 114,
   "metadata": {
    "deletable": false,
    "editable": false,
    "nbgrader": {
     "checksum": "2330143440059365417d5fd5ac655e98",
     "grade": true,
     "grade_id": "cell-327e3a5b1ba60cbd",
     "locked": true,
     "points": 4,
     "schema_version": 1,
     "solution": false
    }
   },
   "outputs": [
    {
     "name": "stdout",
     "output_type": "stream",
     "text": [
      "6.827724308940754 (10285,)\n",
      "1 test passed.\n"
     ]
    }
   ],
   "source": [
    "J, grad = backpropReg(params, input_size, hidden_size, num_labels, X, y_onehot, lambda_reg)\n",
    "print(J, grad.shape)\n",
    "Test.assertEquals(list(np.round(grad[np.where(np.abs(grad)>0.0001)[0][:20]], 5)), \n",
    "                  [0.01986, 0.00015, 0.00016, 0.00013, 0.00022, 0.00033, 0.00036, 0.00039, 0.00048, 0.00057, \n",
    "                   0.00068, 0.00083, 0.00103, 0.00113, 0.00078, 0.00036, 0.00013, 0.00029, 0.00066, 0.00092], \n",
    "                  'Gradientes incorrectos')"
   ]
  },
  {
   "cell_type": "markdown",
   "metadata": {
    "deletable": false,
    "editable": false,
    "nbgrader": {
     "checksum": "c3336f84ac3904e38ee728a0187ce8bb",
     "grade": false,
     "grade_id": "cell-8c0a67cdcb2f874f",
     "locked": true,
     "schema_version": 1,
     "solution": false
    }
   },
   "source": [
    "# Entrenamiento de la red y clasificación\n",
    "\n",
    "Ahora ya estamos listos para entrenar la red y usarla para hacer predicciones. Para entrenarla, utilizamos el método `minimize`de scipy, indicándole que backpropReg es la función que calcula el coste y los gradientes.\n"
   ]
  },
  {
   "cell_type": "code",
   "execution_count": 115,
   "metadata": {},
   "outputs": [
    {
     "data": {
      "text/plain": [
       "     fun: 0.3286736770964158\n",
       "     jac: array([ 4.88155821e-05, -1.51082806e-07, -4.21702356e-08, ...,\n",
       "       -5.65653002e-05, -6.00343558e-06,  8.23543779e-05])\n",
       " message: 'Max. number of function evaluations reached'\n",
       "    nfev: 250\n",
       "     nit: 22\n",
       "  status: 3\n",
       " success: False\n",
       "       x: array([-1.33556857e+00, -7.55414029e-04, -2.10851178e-04, ...,\n",
       "       -2.70057184e+00, -1.77033480e+00,  1.70599386e+00])"
      ]
     },
     "execution_count": 115,
     "metadata": {},
     "output_type": "execute_result"
    }
   ],
   "source": [
    "from scipy.optimize import minimize\n",
    "\n",
    "# Minimizar la función objetivo que acabamos de definir\n",
    "fmin = minimize(fun=backpropReg, x0=params, args=(input_size, hidden_size, num_labels, X, y_onehot, lambda_reg), \n",
    "                method='TNC', jac=True, options={'maxiter': 250})\n",
    "fmin"
   ]
  },
  {
   "cell_type": "markdown",
   "metadata": {
    "deletable": false,
    "editable": false,
    "nbgrader": {
     "checksum": "2beccd61823c946edee473c06268e878",
     "grade": false,
     "grade_id": "cell-8fdb1f6727984647",
     "locked": true,
     "schema_version": 1,
     "solution": false
    }
   },
   "source": [
    "Lógicamente hemos puesto un límite de iteraciones. Ahora, con el modelo obtenido vamos a tratar de realizar las predicciones para nuestros ejemplos de entrenamiento."
   ]
  },
  {
   "cell_type": "code",
   "execution_count": 116,
   "metadata": {
    "deletable": false,
    "nbgrader": {
     "checksum": "70529a62182d0f09a072463d06714e82",
     "grade": false,
     "grade_id": "cell-0dfd2c109cdc8098",
     "locked": false,
     "schema_version": 1,
     "solution": true
    }
   },
   "outputs": [
    {
     "data": {
      "text/plain": [
       "matrix([[0],\n",
       "        [0],\n",
       "        [0],\n",
       "        ...,\n",
       "        [9],\n",
       "        [9],\n",
       "        [9]], dtype=int64)"
      ]
     },
     "execution_count": 116,
     "metadata": {},
     "output_type": "execute_result"
    }
   ],
   "source": [
    "# Desempaquetamos los parámetros obtenidos como resultado del entrenamiento almacenados en fmin.x\n",
    "# Crea las variables theta1 y theta2\n",
    "theta1 = np.matrix(np.reshape(fmin.x[:hidden_size * (input_size + 1)], (hidden_size, (input_size + 1))))\n",
    "theta2 = np.matrix(np.reshape(fmin.x[hidden_size * (input_size + 1):], (num_labels, (hidden_size + 1))))\n",
    "\n",
    "# Utilizamos los parámetros desempaquetados con la propagación hacia adelante para obtener la predicción para nuestros ejemplos\n",
    "a1, z2, a2, z3, h = forward_propagate(X, theta1, theta2)\n",
    "\n",
    "# Finalmente, para obtener la clase para cada ejemplo, buscamos de las diez salidas cual es la más alta\n",
    "# y usamos su índice como valor predicho (utilizar np.argmax con axis=1 que hace precísamente eso).\n",
    "y_pred = np.argmax(h, axis=1)\n",
    "y_pred"
   ]
  },
  {
   "cell_type": "markdown",
   "metadata": {
    "deletable": false,
    "editable": false,
    "nbgrader": {
     "checksum": "0ffa9bed0518a09fc3744918e025c8f3",
     "grade": false,
     "grade_id": "cell-51513d62888c3671",
     "locked": true,
     "schema_version": 1,
     "solution": false
    }
   },
   "source": [
    "Finalmente, podemos calcular la precisión del modelo en entrenamiento para ver cómo de bien está funcionando."
   ]
  },
  {
   "cell_type": "code",
   "execution_count": 117,
   "metadata": {
    "deletable": false,
    "editable": false,
    "nbgrader": {
     "checksum": "a27d96617632636608c270ce4cf94670",
     "grade": true,
     "grade_id": "cell-929faa1c181fc105",
     "locked": true,
     "points": 4,
     "schema_version": 1,
     "solution": false
    }
   },
   "outputs": [
    {
     "name": "stdout",
     "output_type": "stream",
     "text": [
      "Precisión en train: 99.32%\n",
      "1 test passed.\n"
     ]
    }
   ],
   "source": [
    "from sklearn import metrics\n",
    "\n",
    "accTrain = metrics.accuracy_score(y_pred, y)\n",
    "\n",
    "print(\"Precisión en train: {}%\".format(accTrain*100))\n",
    "\n",
    "Test.assertEquals(np.round(accTrain,2), 0.99, 'Precisión incorrecta')"
   ]
  },
  {
   "cell_type": "markdown",
   "metadata": {
    "deletable": false,
    "editable": false,
    "nbgrader": {
     "checksum": "d1fa026f6a6e11b96109f529047bc061",
     "grade": false,
     "grade_id": "cell-13bcced842c1587d",
     "locked": true,
     "schema_version": 1,
     "solution": false
    }
   },
   "source": [
    "## Tarea adicional\n",
    "El error que obtenemos es muy bajo. ¿Pero qué ejemplos estamos fallando? ¿El ojo humano los diferenciaría? Obtén los ejemplos que se están fallando y píntalos como hemos hecho al principio junto con la clase real del ejemplo y la clase que le asigna la red. ¿Serías capaz de hacerlo mejor que la propia red neuronal?\n"
   ]
  },
  {
   "cell_type": "code",
   "execution_count": 149,
   "metadata": {
    "deletable": false,
    "nbgrader": {
     "checksum": "6db8d2b4124210f6ae06df1e98302c33",
     "grade": true,
     "grade_id": "cell-8b5593932f19d35c",
     "locked": false,
     "points": 8,
     "schema_version": 1,
     "solution": true
    }
   },
   "outputs": [
    {
     "data": {
      "text/plain": [
       "array([ 142,  265,  531,  675,  765, 1087, 1408, 1412, 1413, 1440, 1550,\n",
       "       1617, 1701, 1764, 1923, 1959, 1970, 2112, 2171, 2187, 2506, 2556,\n",
       "       3043, 3382, 3515, 3732, 3795, 3895, 4069, 4509, 4593, 4636, 4844,\n",
       "       4863], dtype=int64)"
      ]
     },
     "execution_count": 149,
     "metadata": {},
     "output_type": "execute_result"
    }
   ],
   "source": [
    "fallos = np.where(y_pred != y)[0]\n",
    "fallos"
   ]
  },
  {
   "cell_type": "code",
   "execution_count": 196,
   "metadata": {},
   "outputs": [
    {
     "data": {
      "image/png": "[encoded data removed]",
      "text/plain": [
       "<Figure size 1440x1440 with 40 Axes>"
      ]
     },
     "metadata": {
      "needs_background": "light"
     },
     "output_type": "display_data"
    }
   ],
   "source": [
    "n = 8\n",
    "fig, axes = plt.subplots(fallos.size//n + (fallos.size%n!=0), n, figsize=(20, 20))\n",
    "\n",
    "for i in range(len(fallos)):\n",
    "    index = fallos[i]\n",
    "    img = X[index, :].reshape(20, 20, order='F')\n",
    "    axes[i//n, i%n].imshow(img, cmap=plt.cm.gray)\n",
    "    axes[i//n, i%n].axis('off')\n",
    "    \n",
    "for j in range(i%n+1, n):\n",
    "    axes[i//n, j%n].set_axis_off()\n",
    "    \n",
    "    "
   ]
  }
 ],
 "metadata": {
  "anaconda-cloud": {},
  "kernelspec": {
   "display_name": "Python 3",
   "language": "python",
   "name": "python3"
  },
  "language_info": {
   "codemirror_mode": {
    "name": "ipython",
    "version": 3
   },
   "file_extension": ".py",
   "mimetype": "text/x-python",
   "name": "python",
   "nbconvert_exporter": "python",
   "pygments_lexer": "ipython3",
   "version": "3.6.10"
  }
 },
 "nbformat": 4,
 "nbformat_minor": 1
}
