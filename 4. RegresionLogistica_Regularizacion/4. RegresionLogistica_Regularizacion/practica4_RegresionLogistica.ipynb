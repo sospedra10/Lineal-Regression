{
 "cells": [
  {
   "cell_type": "markdown",
   "metadata": {
    "deletable": false,
    "editable": false,
    "nbgrader": {
     "checksum": "207a6159d4d4e705e05b7f508f60b4b0",
     "grade": false,
     "grade_id": "cell-e6674558c017ecc9",
     "locked": true,
     "schema_version": 1,
     "solution": false
    }
   },
   "source": [
    "# Aprendizaje Formal\n",
    "\n",
    "## Práctica 4: Regresión Logística y Regularización\n",
    "\n",
    "### Índice de la práctica\n",
    "\n",
    "- [Lectura de datos](#Lectura-de-datos)\n",
    "- [Regresión logística](#Regresión-logística)\n",
    "- [Regresión logística con regularización](#Regresión-logística-con-regularización)"
   ]
  },
  {
   "cell_type": "markdown",
   "metadata": {
    "deletable": false,
    "editable": false,
    "nbgrader": {
     "checksum": "f5ef9b4ea2d48f676f184a0c254933a0",
     "grade": false,
     "grade_id": "cell-fe79188a33bec9b6",
     "locked": true,
     "schema_version": 1,
     "solution": false
    }
   },
   "source": [
    "Importamos todas las librerías que vamos a utilizar durante la segunda práctica."
   ]
  },
  {
   "cell_type": "code",
   "execution_count": 1,
   "metadata": {
    "deletable": false,
    "editable": false,
    "nbgrader": {
     "checksum": "e75daa3d844928220ca2d1e740e48d02",
     "grade": false,
     "grade_id": "cell-6aec782e0f4e6cf1",
     "locked": true,
     "schema_version": 1,
     "solution": false
    }
   },
   "outputs": [],
   "source": [
    "import numpy as np\n",
    "import matplotlib.pyplot as plt\n",
    "\n",
    "from mpl_toolkits.mplot3d import Axes3D\n",
    "from test_helper import Test\n",
    "\n",
    "from scipy.optimize import minimize\n",
    "\n",
    "%matplotlib inline  "
   ]
  },
  {
   "cell_type": "markdown",
   "metadata": {
    "deletable": false,
    "editable": false,
    "nbgrader": {
     "checksum": "de20393458a52e8e0872e2b28e1b5f31",
     "grade": false,
     "grade_id": "cell-cf61a4b927c50720",
     "locked": true,
     "schema_version": 1,
     "solution": false
    }
   },
   "source": [
    "### Lectura de datos\n",
    "\n",
    "Definimos una función que lee un archivo que contiene los datos de entrenamiento. La función recibe como parámetro de entrada el nombre del fichero que contiene los datos de entrenamiento así como el símbolo utilizado para separar los valores de las variables del problema (delimitador). La función muestra las dimensiones del dataset así como los 5 primeros ejemplos del mismo.\n",
    "\n",
    "Debéis llamar a la función loadtxt de numpy con los parámetros apropiados."
   ]
  },
  {
   "cell_type": "code",
   "execution_count": 2,
   "metadata": {
    "deletable": false,
    "nbgrader": {
     "checksum": "5f328f219499f8fc0408567eb03c321e",
     "grade": false,
     "grade_id": "cell-979948348546ade0",
     "locked": false,
     "schema_version": 1,
     "solution": true
    }
   },
   "outputs": [],
   "source": [
    "def lecturaDatos(nombreFichero, simboloDelimitador):\n",
    "    datos = np.loadtxt(nombreFichero, delimiter=simboloDelimitador)\n",
    "    \n",
    "    print('Dimensiones de los datos: ',datos.shape)\n",
    "    print(datos[0:5,:])\n",
    "    return (datos)"
   ]
  },
  {
   "cell_type": "markdown",
   "metadata": {
    "deletable": false,
    "editable": false,
    "nbgrader": {
     "checksum": "f15f23e60022b2cb06deaeebb22371fe",
     "grade": false,
     "grade_id": "cell-1531a395501ff52d",
     "locked": true,
     "schema_version": 1,
     "solution": false
    }
   },
   "source": [
    "Definimos una función que muestre los datos de entrenamiento gráficamente. \n",
    "\n",
    "Esta función va a ser genérica para problemas de clasificación de dos clases por lo que\n",
    "* La clase negativa va a ser la que tenga asociada la etiqueta 0\n",
    "* La clase positiva va a ser la que tenga asociada la etiqueta 1\n",
    "\n",
    "Además asumimos que la variable de salida (clase) será el último valor en cada fila de `datos`.\n",
    "\n",
    "La función recibe como parámetros de entrada los datos, las etiquetas de los ejes x e y (dos variables de entrada) así como la etiqueta para los datos de la clase positiva y de la clase negativa (se muestran en la leyenda de la figura)."
   ]
  },
  {
   "cell_type": "code",
   "execution_count": 3,
   "metadata": {
    "deletable": false,
    "nbgrader": {
     "checksum": "35d0ab66cbd7a776fb33fce607fc3a9b",
     "grade": false,
     "grade_id": "cell-9c7c3f66ce953ff1",
     "locked": false,
     "schema_version": 1,
     "solution": true
    }
   },
   "outputs": [],
   "source": [
    "def muestraGrafica(datos, etiqueta_ejeX, etiqueta_ejeY, etiqueta_Positiva, etiqueta_Negativa, axes=None):\n",
    "    # La variable claseNegativa debe ser un array de booleanos compuesto por tantos elementos como ejemplos\n",
    "        # Los ejemplos de la clase 0 deben tener True en su correspondiente posicion del array de booleanos y False en el resto\n",
    "    claseNegativa = (datos[:, -1]==0)\n",
    "    \n",
    "    # La variable clasePositiva debe ser un array de booleanos compuesto por tantos elementos como ejemplos\n",
    "        # Los ejemplos de la clase 1 deben tener True en su correspondiente posicion del array de booleanos y False en el resto\n",
    "    clasePositiva = (datos[:, -1]==1)\n",
    "    \n",
    "    # Si no se pasa un manejador de una figura se crea una\n",
    "    if axes == None:\n",
    "        fig = plt.figure(figsize=(6, 5))\n",
    "        axes = fig.add_axes([0, 0, 1, 1])\n",
    "        \n",
    "    # Se muestra la nube de puntos: + negros para la clase 1 y circulos amarillos para la clase 0 \n",
    "    # Utiliza los vectores claseNegativa y clasePositiva como máscara para pintar solo los datos correspondientes a la clase en cuestión\n",
    "\n",
    "    # Debes utilizar la variable axes y utilizar su método scatter\n",
    "    axes.scatter(datos[:, 0][clasePositiva], datos[:, 1][clasePositiva], label=etiqueta_Positiva, c='k', marker='+')\n",
    "    axes.scatter(datos[:, 0][claseNegativa], datos[:, 1][claseNegativa], label=etiqueta_Negativa, c='y', marker='o')\n",
    "    \n",
    "    # Establecemos las etiquetas de los ejes\n",
    "    axes.set_xlabel(etiqueta_ejeX)\n",
    "    axes.set_ylabel(etiqueta_ejeY)\n",
    "    \n",
    "    # Añadimos la leyenda\n",
    "    axes.legend(frameon= True, fancybox = True);"
   ]
  },
  {
   "cell_type": "markdown",
   "metadata": {
    "deletable": false,
    "editable": false,
    "nbgrader": {
     "checksum": "483a69acb7547c98c1a3bea23d862239",
     "grade": false,
     "grade_id": "cell-56b71875862d6b0c",
     "locked": true,
     "schema_version": 1,
     "solution": false
    }
   },
   "source": [
    "### Regresión logística"
   ]
  },
  {
   "cell_type": "markdown",
   "metadata": {
    "deletable": false,
    "editable": false,
    "nbgrader": {
     "checksum": "187b7d46109861d84265fd4edfb24c3f",
     "grade": false,
     "grade_id": "cell-f8aa272ac2122694",
     "locked": true,
     "schema_version": 1,
     "solution": false
    }
   },
   "source": [
    "Lee datos utilizando la función definida anteriormente. El nombre del fichero a leer es ex2data1.txt y el delimitador de los valores de las variables es la coma (,).\n",
    "\n",
    "Los datos contenidos en este fichero corresponden a un problema en el que se debe **predecir si un estudiante es admitido en una universidad o no**. El acceso a la universidad viene determinado por la nota obtenida por los estudiantes en dos exámenes realizados previamente. El archivo contiene el histórico de las notas obtenidas en ambos exámenes (variables de entrada) para 100 alumnos así como si han ingresado en la universidad o no (variable de salida)."
   ]
  },
  {
   "cell_type": "code",
   "execution_count": 4,
   "metadata": {
    "deletable": false,
    "nbgrader": {
     "checksum": "84c855c12f4d672cdd87495fd70e3b90",
     "grade": false,
     "grade_id": "cell-dbdc21cf486bdc5f",
     "locked": false,
     "schema_version": 1,
     "solution": true
    }
   },
   "outputs": [
    {
     "name": "stdout",
     "output_type": "stream",
     "text": [
      "Dimensiones de los datos:  (100, 3)\n",
      "[[34.62365962 78.02469282  0.        ]\n",
      " [30.28671077 43.89499752  0.        ]\n",
      " [35.84740877 72.90219803  0.        ]\n",
      " [60.18259939 86.3085521   1.        ]\n",
      " [79.03273605 75.34437644  1.        ]]\n"
     ]
    }
   ],
   "source": [
    "# Guarda los datos en la variable datos\n",
    "datos = lecturaDatos('ex2data1.txt', ',')"
   ]
  },
  {
   "cell_type": "markdown",
   "metadata": {
    "deletable": false,
    "editable": false,
    "nbgrader": {
     "checksum": "5c0731e087c9855006971a36181168b8",
     "grade": false,
     "grade_id": "cell-1ddc692358c235c2",
     "locked": true,
     "schema_version": 1,
     "solution": false
    }
   },
   "source": [
    "A continuación se crean los datos de entrada ($X$) y de salida ($y$) para poder realizar el aprendizaje de los parámetros de la regresión logística ($\\theta$). Recordar que la primera columna de los datos de entrada debe estar compuesta por unos para multiplicar al término independiente de la regresión logística. Por tanto, la variable $X$ estará compuesta por tantas columnas como variables de entrada más una (la de unos). En este caso serán 3 columnas. La variable $y$ debe contener la información de si los alumnos han sido admitidos o no."
   ]
  },
  {
   "cell_type": "code",
   "execution_count": 5,
   "metadata": {
    "deletable": false,
    "nbgrader": {
     "checksum": "fcaac5493250e751f78230a454fb7293",
     "grade": false,
     "grade_id": "cell-6bfc966f0ab22541",
     "locked": false,
     "schema_version": 1,
     "solution": true
    }
   },
   "outputs": [],
   "source": [
    "# Debéis crear una columna de unos y concaternala con las dos primeras columnas de datos\n",
    "# Utiliza la función hstack para concatenar una matriz de m x 1 de unos y los datos en data menos su última columna\n",
    "# Guarda el resultado en X\n",
    "unos = np.ones((len(datos))).reshape(-1, 1)\n",
    "X = np.hstack((unos, datos[:, :-1]))\n",
    "\n",
    "# y debe ser un vector columna, es decir una matriz de m x 1. \n",
    "# Para ello, debes tomar la segunda última de data y luego haz un reshape(-1, 1). El -1 le indica a numpy que debe estimar el tamaño automáticamente\n",
    "y = datos[:, -1].reshape(-1, 1)"
   ]
  },
  {
   "cell_type": "code",
   "execution_count": 6,
   "metadata": {
    "deletable": false,
    "editable": false,
    "nbgrader": {
     "checksum": "41a7fde5337d6e0e4304c31b65316869",
     "grade": true,
     "grade_id": "cell-29b6c4ceb4c57ad5",
     "locked": true,
     "points": 1,
     "schema_version": 1,
     "solution": false
    }
   },
   "outputs": [
    {
     "name": "stdout",
     "output_type": "stream",
     "text": [
      "1 test passed.\n",
      "1 test passed.\n"
     ]
    }
   ],
   "source": [
    "Test.assertEquals(list(X[0,:]), [1.0, 34.623659624516968, 78.0246928153624], 'X no está bien formada')\n",
    "Test.assertEquals(list(y[:5, 0]), [0.0, 0.0, 0.0, 1.0, 1.0], 'y no está bien formada')"
   ]
  },
  {
   "cell_type": "markdown",
   "metadata": {
    "deletable": false,
    "editable": false,
    "nbgrader": {
     "checksum": "9dd07eeb3658d7a7162cb043b56c991f",
     "grade": false,
     "grade_id": "cell-6339c3fa9b680eae",
     "locked": true,
     "schema_version": 1,
     "solution": false
    }
   },
   "source": [
    "Realizar la llamada a la función que muestra los ejemplos utilizando los datos recién leídos y las etiquetas apropiadas. Los alumnos admitidos se codifican con 1 y los no admitidos con 0. El resultado debe ser similar a la siguiente figura.\n",
    "![Figura](img1.png)"
   ]
  },
  {
   "cell_type": "code",
   "execution_count": 7,
   "metadata": {
    "deletable": false,
    "nbgrader": {
     "checksum": "610cc8a9084532d0ebf8fbe7e081d960",
     "grade": false,
     "grade_id": "cell-99bcfc18cfafcab4",
     "locked": false,
     "schema_version": 1,
     "solution": true
    }
   },
   "outputs": [
    {
     "data": {
      "image/png": "[encoded data removed]",
      "text/plain": [
       "<Figure size 432x360 with 1 Axes>"
      ]
     },
     "metadata": {
      "needs_background": "light"
     },
     "output_type": "display_data"
    }
   ],
   "source": [
    "muestraGrafica(datos, 'Nota en el examen 1', 'Nota en el examen 2', 'Admitido', 'No admitido')"
   ]
  },
  {
   "cell_type": "markdown",
   "metadata": {
    "deletable": false,
    "editable": false,
    "nbgrader": {
     "checksum": "eedb0c28c9f9b44a1e4724281c4b1a7f",
     "grade": false,
     "grade_id": "cell-90bd4d86ce1a93fb",
     "locked": true,
     "schema_version": 1,
     "solution": false
    }
   },
   "source": [
    "#### Modelo de regresión logística\n",
    "Vamos a recordar el modelo de la regresión logística. Es el mismo que para la regresión lineal pero aplicando una función sigmoide sobre el resultado para conseguir una función convexa y, de esta forma, poder aplicar el descenso por gradiente para minimizar la función de coste.\n",
    "\n",
    "#### Hipótesis de la regresión logística\n",
    "#### $$ h_{\\theta}(x) = g(\\theta^{T}x)$$\n",
    "#### La función $g$ es la función sigmoide definida como\n",
    "#### $$ g(z)=\\frac{1}{1+e^{−z}} $$"
   ]
  },
  {
   "cell_type": "markdown",
   "metadata": {
    "deletable": false,
    "editable": false,
    "nbgrader": {
     "checksum": "88465e58b30b92e47a6969fe9c628604",
     "grade": false,
     "grade_id": "cell-826477d9f9e37746",
     "locked": true,
     "schema_version": 1,
     "solution": false
    }
   },
   "source": [
    "Definir la función que aplica la función sigmoide, $g(z)$, sobre un dato $z$. Este dato puede ser un array de valores.\n",
    "\n",
    "La función exp de numpy (pasando un valor como parámetro de entrada) sirve para calular $e^{valor}$"
   ]
  },
  {
   "cell_type": "code",
   "execution_count": 8,
   "metadata": {
    "deletable": false,
    "nbgrader": {
     "checksum": "364aed280da7260c83560b35c700ed45",
     "grade": false,
     "grade_id": "cell-5ef87e9347b2adbd",
     "locked": false,
     "schema_version": 1,
     "solution": true
    }
   },
   "outputs": [],
   "source": [
    "def sigmoide(z):\n",
    "    return 1 / (1 + np.exp(-z))"
   ]
  },
  {
   "cell_type": "markdown",
   "metadata": {
    "deletable": false,
    "editable": false,
    "nbgrader": {
     "checksum": "ed1f4738cd460fcdcc48439cf215722c",
     "grade": false,
     "grade_id": "cell-561e6fe3fd0e6085",
     "locked": true,
     "schema_version": 1,
     "solution": false
    }
   },
   "source": [
    "Comprobar si la función sigmoide funciona correctamente, recordar que:\n",
    "* Para el valor 0.0 el resultado debe ser 0.5\n",
    "* Para valores grandes el resultado debe ser muy próximo a 1.0\n",
    "* Para valores pequeños el resultado debe ser muy próximo a 0.0\n",
    "\n",
    "Ejericicio:\n",
    "* Comprobar el resultado para el valor de entrada 0.0\n",
    "* Comprobar el resultado para un array de numpy compuesto por los valores -5.0 y 5.0"
   ]
  },
  {
   "cell_type": "code",
   "execution_count": 9,
   "metadata": {
    "deletable": false,
    "nbgrader": {
     "checksum": "8714f50c1eab15bbc56746fda72aeeec",
     "grade": false,
     "grade_id": "cell-264a96e73a73bee1",
     "locked": false,
     "schema_version": 1,
     "solution": true
    }
   },
   "outputs": [
    {
     "name": "stdout",
     "output_type": "stream",
     "text": [
      "0.5\n",
      "[0.00669285 0.99330715]\n"
     ]
    }
   ],
   "source": [
    "# Resultado para 0.0 (almacenar en resultado1)\n",
    "resultado1 = sigmoide(0.0)\n",
    "print(resultado1)\n",
    "\n",
    "# Resultado para un array con -5.0 y 5.0 (almacenar en resultado2)\n",
    "resultado2 = sigmoide(np.array([-5.0, 5.0]))\n",
    "print(resultado2)"
   ]
  },
  {
   "cell_type": "code",
   "execution_count": 10,
   "metadata": {
    "deletable": false,
    "editable": false,
    "nbgrader": {
     "checksum": "51dcb80a505336648ceec795444372d1",
     "grade": true,
     "grade_id": "cell-55b17f724c1ab1ca",
     "locked": true,
     "points": 1,
     "schema_version": 1,
     "solution": false
    }
   },
   "outputs": [
    {
     "name": "stdout",
     "output_type": "stream",
     "text": [
      "1 test passed.\n",
      "1 test passed.\n"
     ]
    }
   ],
   "source": [
    "Test.assertEquals(resultado1, 0.5, 'Valor incorrecto de la función sigmoide')\n",
    "Test.assertEquals(list(np.round(resultado2, 5)), [0.00669,  0.99331], 'Valores incorrectos de la función sigmoide')"
   ]
  },
  {
   "cell_type": "markdown",
   "metadata": {
    "collapsed": true,
    "deletable": false,
    "editable": false,
    "nbgrader": {
     "checksum": "bff69c82dcb814da730c3ff5aaec0746",
     "grade": false,
     "grade_id": "cell-eecb25477eb77b14",
     "locked": true,
     "schema_version": 1,
     "solution": false
    }
   },
   "source": [
    "##### SciPy\n",
    "La librería Scipy contiene una función que realiza exáctamente este mismo cálculo. Se puede consultar su información la siguiente URL:<BR>\n",
    "http://docs.scipy.org/doc/scipy/reference/generated/scipy.special.expit.html#scipy.special.expit\n",
    "\n",
    "Se podría utilizar en lugar de la función sigmoide que acabamos de definir."
   ]
  },
  {
   "cell_type": "markdown",
   "metadata": {
    "deletable": false,
    "editable": false,
    "nbgrader": {
     "checksum": "ecb1b1f151e75a1665055bb3b07eacdc",
     "grade": false,
     "grade_id": "cell-d973b148009540d5",
     "locked": true,
     "schema_version": 1,
     "solution": false
    }
   },
   "source": [
    "#### Función de coste\n",
    "A continuación vamos a implementar la función de coste. Vamos a recordar su expresión normal y vectorizada.\n",
    "\n",
    "#### $$ J(\\theta) = -\\frac{1}{m}\\sum_{i=1}^{m}\\big[y^{(i)}\\, log\\,( h_\\theta\\,(x^{(i)}))+(1-y^{(i)})\\,log\\,(1-h_\\theta(x^{(i)}))\\big]$$\n",
    "#### Función de coste vectorizada\n",
    "Obtenemos el vector de salidas (probabilidad de que cada ejemplo pertenezca a la clase 1)\n",
    "\n",
    "$$ h_\\theta(X) = g(X\\cdot \\theta) $$\n",
    "\n",
    "Utilizamos el vector columna anterior para calcular el coste total directamente\n",
    "\n",
    "#### $$ J(\\theta) = -\\frac{1}{m}\\big((\\,log\\,(h_\\theta(X))^Ty+(\\,log\\,(1-h_\\theta(X))^T(1-y)\\big)$$"
   ]
  },
  {
   "cell_type": "markdown",
   "metadata": {
    "deletable": false,
    "editable": false,
    "nbgrader": {
     "checksum": "a2ac28b8429da9c0f8052993e5fe7fa1",
     "grade": false,
     "grade_id": "cell-9c7b091228cec6ae",
     "locked": true,
     "schema_version": 1,
     "solution": false
    }
   },
   "source": [
    "Definir la función de coste vectorizada mostrada anteriormente $J(\\theta)$. Esta función recibe como parámetros de entrada los valores de los parámetros $\\theta$ (en forma de vector columna) sobre los que calcular el coste con respecto a los datos de entrada ($X$) y sus correspondientes salidas ($y$)."
   ]
  },
  {
   "cell_type": "code",
   "execution_count": 11,
   "metadata": {
    "deletable": false,
    "nbgrader": {
     "checksum": "aaaef600ebab6d1e07c84fe00ffe8f25",
     "grade": false,
     "grade_id": "cell-6247da9f64e70fc8",
     "locked": false,
     "schema_version": 1,
     "solution": true
    }
   },
   "outputs": [],
   "source": [
    "def funcionCoste(theta, X, y):\n",
    "    m = y.size\n",
    "    h = sigmoide(X.dot(theta))    \n",
    "    \n",
    "    with np.errstate(divide='raise'):\n",
    "        try:\n",
    "            J = (-1 / m) * ((np.log(h.T).dot(y)) + (np.log(1 - h.T)).dot(1 - y))\n",
    "        except FloatingPointError: J = np.inf\n",
    "    return J"
   ]
  },
  {
   "cell_type": "markdown",
   "metadata": {
    "deletable": false,
    "editable": false,
    "nbgrader": {
     "checksum": "4fab3d0a141a88b9afac8c7bf099848f",
     "grade": false,
     "grade_id": "cell-61f46d0c7ccd3a81",
     "locked": true,
     "schema_version": 1,
     "solution": false
    }
   },
   "source": [
    "Recordamos como son las derivadas parciales para poder definir la función que aplica el descenso por gradiente y de esta forma aprender los valores de los parámetros de la regresión logística ($\\theta$)\n",
    "\n",
    "#### Derivada parcial\n",
    "\n",
    "#### $$ \\frac{\\delta J(\\theta)}{\\delta\\theta_{j}} = \\frac{1}{m}\\sum_{i=1}^{m} ( h_\\theta (x^{(i)})-y^{(i)})\\cdot x^{(i)}_{j} $$ \n",
    "#### Derivada parcial vectorizada\n",
    "#### $$ \\frac{\\delta J(\\theta)}{\\delta\\theta_{j}} = \\frac{1}{m} X^T(h_\\theta(X)-y)$$\n",
    "donde $$ h_\\theta(X) = g(X\\cdot \\theta) $$\n"
   ]
  },
  {
   "cell_type": "markdown",
   "metadata": {
    "deletable": false,
    "editable": false,
    "nbgrader": {
     "checksum": "7912a44d1a675ea474c9baa13fae1cc2",
     "grade": false,
     "grade_id": "cell-51dfb2627acdfb00",
     "locked": true,
     "schema_version": 1,
     "solution": false
    }
   },
   "source": [
    "Definir la función que realiza la derivada parcial vectorizada mostrada previamente. Esta función recibe como parámetros de entrada los valores iniciales de los parámetros de la regresión logística ($\\theta$) así como los valores de las variables de entrada del problema ($X$) y sus correspondientes salidas ($y$).\n",
    "\n",
    "En la variable $h$ tenemos el resultado de $g(X\\cdot \\theta)$\n",
    "\n",
    "Ejercicio: \n",
    "* Implementa la ecuación de la derivada parcial $\\frac{1}{m} X^T(h_\\theta(X)-y)$\n",
    "\n",
    "** NOTA: Esta función la vamos a usar en una función minimize que realizará el descenso por gradiente. Dicha función en vez de pasar theta como una matriz de (3, 1), nos pasará una de (3, ) por lo que debes hacer un reshape antes de realizar el producto entre X y theta**"
   ]
  },
  {
   "cell_type": "code",
   "execution_count": 12,
   "metadata": {
    "deletable": false,
    "nbgrader": {
     "checksum": "413082fb9ecd65478591702c80de0808",
     "grade": false,
     "grade_id": "cell-b83e1a9b49706a03",
     "locked": false,
     "schema_version": 1,
     "solution": true
    }
   },
   "outputs": [],
   "source": [
    "def derivadaParcial(theta, X, y):\n",
    "    m = y.size\n",
    "    theta = theta.reshape(-1, 1)\n",
    "    \n",
    "    h = sigmoide(X.dot(theta))\n",
    "    \n",
    "    derParcial = (1 / m) * X.T.dot(h - y)\n",
    "\n",
    "    return(derParcial.flatten()) # La salida debe ser un vector"
   ]
  },
  {
   "cell_type": "markdown",
   "metadata": {
    "deletable": false,
    "editable": false,
    "nbgrader": {
     "checksum": "eb985823ff85cc16276fc19258f28be6",
     "grade": false,
     "grade_id": "cell-484e23af213d3849",
     "locked": true,
     "schema_version": 1,
     "solution": false
    }
   },
   "source": [
    "Ejercicio:\n",
    "* Crear los valores iniciales de los parámetros de la regresión logística como un vector columna de ceros. \n",
    "* Comprobar el coste del modelo con los datos leídos utilizando estos valores iniciales de los parámetros $\\theta$.\n",
    "* Obtener los valores de la derivada parcial de los parámetros de la regresión logística llamando a la función que la realiza utilizando los datos de entrenamiento leídos anteriormente."
   ]
  },
  {
   "cell_type": "code",
   "execution_count": 13,
   "metadata": {
    "deletable": false,
    "nbgrader": {
     "checksum": "0df3dc298da80464d32486a53df5d893",
     "grade": false,
     "grade_id": "cell-a515beb498faccf3",
     "locked": false,
     "schema_version": 1,
     "solution": true
    }
   },
   "outputs": [
    {
     "name": "stdout",
     "output_type": "stream",
     "text": [
      "Coste del modelo inicial: \n",
      " [[0.69314718]]\n",
      "Derivada parcial: \n",
      " [ -0.1        -12.00921659 -11.26284221]\n"
     ]
    }
   ],
   "source": [
    "# Creación de la columna de ceros en thetaInicial\n",
    "thetaInicial = np.zeros((datos.shape[1], 1))\n",
    "\n",
    "# Llamada a la funcion de calculo del coste, almacenar resultado en costeInicial\n",
    "costeInicial = funcionCoste(thetaInicial, X, y)\n",
    "# Llamada a la funcion que realiza la derivada parcial, almacenar resultado en derParcial\n",
    "derParcial = derivadaParcial(thetaInicial, X, y)\n",
    "\n",
    "print('Coste del modelo inicial: \\n', costeInicial)\n",
    "print('Derivada parcial: \\n', derParcial)"
   ]
  },
  {
   "cell_type": "code",
   "execution_count": 14,
   "metadata": {
    "deletable": false,
    "editable": false,
    "nbgrader": {
     "checksum": "4af6fd119be613ae8f7a23fb5da56da2",
     "grade": true,
     "grade_id": "cell-69cebece7da73134",
     "locked": true,
     "points": 2,
     "schema_version": 1,
     "solution": false
    }
   },
   "outputs": [
    {
     "name": "stdout",
     "output_type": "stream",
     "text": [
      "1 test passed.\n",
      "1 test passed.\n"
     ]
    }
   ],
   "source": [
    "Test.assertEquals(np.round(costeInicial, 5), 0.69315, 'Valor de coste incorrecto')\n",
    "Test.assertEquals(list(np.round(derParcial, 5)), [-0.1,  -12.00922, -11.26284], 'Valores de la derivada parcial incorrectos')"
   ]
  },
  {
   "cell_type": "markdown",
   "metadata": {
    "deletable": false,
    "editable": false,
    "nbgrader": {
     "checksum": "c43ff28cf2fb4e991a9eeac17cef3877",
     "grade": false,
     "grade_id": "cell-d952a5901e57ddea",
     "locked": true,
     "schema_version": 1,
     "solution": false
    }
   },
   "source": [
    "#### Optimización de la función de coste\n",
    "\n",
    "Para realizar el aprendizaje de los parámetros de la regresión logística vamos a utilizar la función `minimize` importada al comienzo de la práctica. Esta función realiza el proceso de descenso por gradiente y recibe como parámetros de entrada:\n",
    "* La función que calcula el coste del modelo\n",
    "* Los valores iniciales de los parámetros del modelo (variable thetaInicial) \n",
    "* Los valores de los ejemplos de entrenamiento (tanto de las variables de entrada ($X$) como de salida ($y$)) en forma de tupla (parámetro args)\n",
    "* La función que realiza las derivadas parciales (parámetro jac)\n",
    "* El número máximo de iteraciones del descenso por gradiente (establecido a 400)\n",
    "\n",
    "Puedes ver los detalles sobre esta función aquí: https://docs.scipy.org/doc/scipy-0.18.1/reference/generated/scipy.optimize.minimize.html\n",
    "\n",
    "Los parámetros del modelo aprendidos ($\\theta$) se devuelven en el campo x de la variable utilizada para recoger la salida de la función minimize. En este caso se pueden consultar imprimiedo res.x. Este vector está en formato de fila, pásalo a formato columna para poder seguir usándo la variable thetas como hasta ahora."
   ]
  },
  {
   "cell_type": "code",
   "execution_count": 15,
   "metadata": {
    "deletable": false,
    "nbgrader": {
     "checksum": "c211bcee4efffccf29d54ebaecd78390",
     "grade": false,
     "grade_id": "cell-e0d37176b9e876ef",
     "locked": false,
     "schema_version": 1,
     "solution": true
    }
   },
   "outputs": [
    {
     "name": "stdout",
     "output_type": "stream",
     "text": [
      "[[-25.16131634]\n",
      " [  0.2062316 ]\n",
      " [  0.20147143]]\n"
     ]
    }
   ],
   "source": [
    "# Los primeros dos parámetros son la función de coste y los valores de theta iniciales (en formato fila). \n",
    "# El resto de parámetros deben ser args=(X,y), jac=derivadaParcial y options={'maxiter':400}\n",
    "# Almacenar resultado en res\n",
    "res = minimize(funcionCoste, thetaInicial, args=(X, y), jac=derivadaParcial, options={'maxiter':400})\n",
    "\n",
    "# Obtén los valores de thetas a partir de res.x y pásalos a formato columna. Guarda el resultado en thetas\n",
    "thetas = res.x.reshape(-1, 1)\n",
    "print(thetas)"
   ]
  },
  {
   "cell_type": "code",
   "execution_count": 16,
   "metadata": {
    "deletable": false,
    "editable": false,
    "nbgrader": {
     "checksum": "a6bd7bc5e18a462f155e09ab3883ed65",
     "grade": true,
     "grade_id": "cell-b3c5fb73976d241d",
     "locked": true,
     "points": 1,
     "schema_version": 1,
     "solution": false
    }
   },
   "outputs": [
    {
     "name": "stdout",
     "output_type": "stream",
     "text": [
      "1 test passed.\n"
     ]
    }
   ],
   "source": [
    "Test.assertEquals(list(np.round(thetas, 5)), [-25.16132, 0.20623, 0.20147], 'Valores de theta incorrectos')"
   ]
  },
  {
   "cell_type": "markdown",
   "metadata": {
    "deletable": false,
    "editable": false,
    "nbgrader": {
     "checksum": "a0da6a7e5efbfd3a87eb5eaa10c3db7e",
     "grade": false,
     "grade_id": "cell-3d949fb0dd517161",
     "locked": true,
     "schema_version": 1,
     "solution": false
    }
   },
   "source": [
    "#### Predicción de nuevos datos\n",
    "\n",
    "Para predecir la clase de nuevos estudiantes se debe definir una función que recibe los valores de los parámetros del modelo ($\\theta$), una lista de lista con los valores de las variables de entrada de todos los alumnos ($X$) y un umbral para decidir si se predice la clase admitido o no admitido. La función sigmoide definida anteriormente devuelve un valor en el intervalo $[0, 1]$ que debemos transformar a $0$ o $1$. Para realizar este proceso utilizamos el umbral de tal forma que si el valor devuelto por la función sigmoide es menor que el umbral se obtiene False (0) y en otro caso True (1). Por tanto, este umbral por defecto debe ser $0.5$ para que ambas clases tengan la misma probabilidad de ser predichas.\n",
    "\n",
    "Ejercicio:\n",
    "* Calcular la probabilidad de admisión de todos los alumnos (función sigmoide pasando el resultado de la ecuación del modelo $X\\cdot \\theta$). \n",
    "    * Se asigna a la variable `p`.\n",
    "* Comparar cada valor devuelto por la función sigomide (almacenado en `p`) con el umbral para obtener si son admitidos (mayor o igual que el umbral: True) o no (menor que el umbral: False). \n",
    "    * La variable `p` se actualiza con este resultado."
   ]
  },
  {
   "cell_type": "code",
   "execution_count": 17,
   "metadata": {
    "deletable": false,
    "nbgrader": {
     "checksum": "5e75b3e5aa21f4c7a1a20f922b1203ec",
     "grade": false,
     "grade_id": "cell-06aa872b63b65a36",
     "locked": false,
     "schema_version": 1,
     "solution": true
    }
   },
   "outputs": [],
   "source": [
    "def prediccion(theta, X, umbral=0.5):\n",
    "    p = sigmoide(X.dot(theta))\n",
    "    p = p >= umbral\n",
    "    # La función astype la utilizamos para convertir booleanos (False (0), True (1)) en números enteros {0, 1}.\n",
    "    return (p.astype('int'))"
   ]
  },
  {
   "cell_type": "markdown",
   "metadata": {
    "deletable": false,
    "editable": false,
    "nbgrader": {
     "checksum": "752b86d1506108b6a1a67ffa17158cc2",
     "grade": false,
     "grade_id": "cell-fa4760621f6a0070",
     "locked": true,
     "schema_version": 1,
     "solution": false
    }
   },
   "source": [
    "Calcular la probabilidad de admisión de un estudiante que ha obtenido un 45 en el primer examen y un 85 en el segundo. Para ello se debe llamar a la función sigmoide que nos devuelve la probabilidad de que un estudiante sea admitido (número entre 0 y 1 como se ha mencionado en el apartado previo).\n",
    "\n",
    "Ejercicio:\n",
    "* Definir el array de numpy con los datos del alumno para que pueda ser predicho por el modelo (acordaros de incluir el 1).\n",
    "* Utilizar la función sigmoide para clasificar el alumno junto con los parámetros del modelo($\\theta$)."
   ]
  },
  {
   "cell_type": "code",
   "execution_count": 18,
   "metadata": {
    "deletable": false,
    "nbgrader": {
     "checksum": "f2d42ded24ea9bdd29b66d44a73c583e",
     "grade": false,
     "grade_id": "cell-e6ec61c5480808b3",
     "locked": false,
     "schema_version": 1,
     "solution": true
    }
   },
   "outputs": [
    {
     "name": "stdout",
     "output_type": "stream",
     "text": [
      "[[0.77629032]]\n"
     ]
    }
   ],
   "source": [
    "# Predecir utilizando los theta obtenidos tras aplicar la función minimize (thetas) - guardar resultado en probabilidad\n",
    "alumno = np.array([1, 45, 85]).reshape(1, -1)\n",
    "probabilidad = sigmoide(alumno.dot(thetas))\n",
    "print(probabilidad)"
   ]
  },
  {
   "cell_type": "code",
   "execution_count": 19,
   "metadata": {
    "deletable": false,
    "editable": false,
    "nbgrader": {
     "checksum": "a4ce1dae11ab7fe134c4bf2dcf783ed3",
     "grade": true,
     "grade_id": "cell-9631dda8ce6d1408",
     "locked": true,
     "points": 1,
     "schema_version": 1,
     "solution": false
    }
   },
   "outputs": [
    {
     "name": "stdout",
     "output_type": "stream",
     "text": [
      "1 test passed.\n"
     ]
    }
   ],
   "source": [
    "Test.assertEquals(np.round(probabilidad, 5), 0.77629, 'Valor de probabilidad incorrecto')"
   ]
  },
  {
   "cell_type": "markdown",
   "metadata": {
    "deletable": false,
    "editable": false,
    "nbgrader": {
     "checksum": "61964fe7ed9819b53f60a8bc5389600e",
     "grade": false,
     "grade_id": "cell-edd58d11d3a4faa0",
     "locked": true,
     "schema_version": 1,
     "solution": false
    }
   },
   "source": [
    "Ejercicio:\n",
    "* Realizar la predicción de todos los alumnos almacenados en el fichero que contiene el histórico (el leído al comienzo de la práctica). \n",
    "    * Llamar a la función predicción definida anteriormente pasando los valores de los parámetros del modelo ($\\theta$) y los datos a predecir.\n",
    "* Obtener el porcentaje de acierto aplicando los siguientes pasos:\n",
    "    * Obtener un array de booleanos comprobando si los alumnos se predicen correctamente o no (es decir, comparar `p` con `y`.\n",
    "    * Obtener el número de alumnos correctamente predichos, sumar el array anterior (con la función sum se suman los True ya que son unos)\n",
    "    * Obtener el porcentaje de alumnos correctamente predichos divididiendo la suma anterior entre el número total de alumnos (p.size) y multiplicado por 100. \n",
    "        * Este resultado se almacena en la variable accuracy."
   ]
  },
  {
   "cell_type": "code",
   "execution_count": 20,
   "metadata": {
    "deletable": false,
    "nbgrader": {
     "checksum": "9e3353e1e578506d7848498f3e933785",
     "grade": false,
     "grade_id": "cell-e5ec062cdbf71ee5",
     "locked": false,
     "schema_version": 1,
     "solution": true
    }
   },
   "outputs": [
    {
     "name": "stdout",
     "output_type": "stream",
     "text": [
      "Precisión en entrenamiento 89.0%\n"
     ]
    }
   ],
   "source": [
    "p = prediccion(thetas, X)\n",
    "boolean_array = (p == y)\n",
    "correct = np.sum(boolean_array)\n",
    "accuracy = correct / p.size * 100\n",
    "\n",
    "print('Precisión en entrenamiento {}%'.format(accuracy))"
   ]
  },
  {
   "cell_type": "code",
   "execution_count": 21,
   "metadata": {
    "deletable": false,
    "editable": false,
    "nbgrader": {
     "checksum": "9078749597782809240ff45cf1df19c2",
     "grade": true,
     "grade_id": "cell-41ac0f984106dd01",
     "locked": true,
     "points": 1,
     "schema_version": 1,
     "solution": false
    }
   },
   "outputs": [
    {
     "name": "stdout",
     "output_type": "stream",
     "text": [
      "1 test passed.\n"
     ]
    }
   ],
   "source": [
    "Test.assertEquals(round(accuracy, 1), 89.0, 'Valor de accuracy incorrecto')"
   ]
  },
  {
   "cell_type": "markdown",
   "metadata": {
    "deletable": false,
    "editable": false,
    "nbgrader": {
     "checksum": "81034c9f53c05a42a61ac9527095ba38",
     "grade": false,
     "grade_id": "cell-78bfb020680a0b72",
     "locked": true,
     "schema_version": 1,
     "solution": false
    }
   },
   "source": [
    "#### Frontera de decisión\n",
    "\n",
    "Ahora vamos a mostrar la frontera de decisión que genera el modelo de regresión logística que acabamos de aprender. Recordar que la frontera de decisión se genera en el punto en el que las probabilidades del ejemplo a todas las clases son iguales y, por tanto, no se sabe determinar la clase. A partir de ese punto la clase cambia entre las que estén afectadas por la frontera (generalmente dos).\n",
    "\n",
    "**NOTA:**\n",
    "* Fijaros en como se obtiene la frontera de decisión (línea azul): se aplica la sigmoide (probabilidad de cada alumno) y se muestran solamente los alumnos cuya probabilidad sea 0.5."
   ]
  },
  {
   "cell_type": "code",
   "execution_count": 22,
   "metadata": {
    "deletable": false,
    "nbgrader": {
     "checksum": "5c638bea9823aa604588382de3993fbf",
     "grade": true,
     "grade_id": "cell-d3775cee676655f2",
     "locked": false,
     "points": 1,
     "schema_version": 1,
     "solution": true
    }
   },
   "outputs": [
    {
     "data": {
      "text/plain": [
       "<matplotlib.contour.QuadContourSet at 0x210358d4ac8>"
      ]
     },
     "execution_count": 22,
     "metadata": {},
     "output_type": "execute_result"
    },
    {
     "data": {
      "image/png": "[encoded data removed]",
      "text/plain": [
       "<Figure size 432x360 with 1 Axes>"
      ]
     },
     "metadata": {
      "needs_background": "light"
     },
     "output_type": "display_data"
    }
   ],
   "source": [
    "# En primer lugar, muestra la gráfica de los datos\n",
    "muestraGrafica(datos, 'Nota en el examen 1', 'Nota en el examen 2', 'Admitido', 'No admitido')\n",
    "# Mostramos el punto que hemos clasificado anteriormente como un triángulo rojo\n",
    "plt.scatter(45, 85, s=60, c='r', marker='v', label='(45, 85)')\n",
    "# Calculamos el mínimo y máximo de cada variable de entrada\n",
    "x1_min, x1_max = X[:,1].min(), X[:,1].max(),\n",
    "x2_min, x2_max = X[:,2].min(), X[:,2].max(),\n",
    "# Obtenemos todas las combinaciones de valores de las dos variables (comprendidos entre el mínimo y el máximo y espaciados linealmente)\n",
    "xx1, xx2 = np.meshgrid(np.linspace(x1_min, x1_max), np.linspace(x2_min, x2_max))\n",
    "\n",
    "# Aplicamos la función sigmoide para obtener la probabilidad de admisión de todas las combinaciones anteriores\n",
    "h = sigmoide(np.hstack((np.ones((xx1.size, 1)), xx1.reshape(-1, 1), xx2.reshape(-1, 1))).dot(thetas))\n",
    "h = h.reshape(xx1.shape)\n",
    "\n",
    "# Mostramos con una línea azul todos las combinaciones cuya probabilidad de admisión sea 0.5 (equiprobable: no sabemos elegir)\n",
    "plt.contour(xx1, xx2, h, [0.5], linewidths=1, colors='b')"
   ]
  },
  {
   "cell_type": "markdown",
   "metadata": {
    "deletable": false,
    "editable": false,
    "nbgrader": {
     "checksum": "5d4d39b54197987f4edac88856ca9e57",
     "grade": false,
     "grade_id": "cell-8b24b5a31ebbc4c4",
     "locked": true,
     "schema_version": 1,
     "solution": false
    }
   },
   "source": [
    "### Regresión logísticas con Scikit-learn\n",
    "Al igual que con la regresión lineal, el paquete scikit-learn también tiene el método de la regresión logística implementado. Lo puedes consultar en http://scikit-learn.org/stable/modules/generated/sklearn.linear_model.LogisticRegression.html#sklearn.linear_model.LogisticRegression\n",
    "\n",
    "Vamos a comprobar si el resultado obtenido es similar. Para ello, vamos a volver a pintar la gráfica anterior pero entrenaremos el modelo con la clase LogisticRegression de scikit-learn. La regresión logística de de sklearn está implementada con la regularización, pero eso lo veremos en la segunda parte de la práctica. \n",
    " \n",
    "`LogisticRegression` requiere de los siguientes parámetros:\n",
    "* penalty: Elegir 'l2' (es el tipo de regularización a realizar)\n",
    "* C: Es el valor que corresponde a lambda, pero en este caso $ C = 1/\\lambda$. Como no queremos regularizar, este valor debe ser un valor muy alto, por ejemplo $10.0e50$\n",
    "* max_iter: Número máximo de iteraciones para el descenso por gradiente (400)\n",
    "* solver: Este es el método a utilizar para buscar el mínimo. Puede ser cualquiera de entre {‘newton-cg’, ‘lbfgs’, ‘liblinear’, ‘sag’}. Utilizar newton-cg para esta prueba\n",
    "\n",
    "Una vez creado el objeto de `LogisticRegression` debes utilizar el método `fit`. Como entrada toma la matriz $X$ (**CUIDADO** sin coger la columna de unos) y el vector $y$ (ponerlo en modo vector usando ravel).\n",
    "\n",
    "Con dicha operación logramos ajustar los parámetros y ya podemos usar el objeto para predecir nuevos valores (los coeficientes obtenidos están en coef$\\_$ y intercept$\\_$, pero es más sencillo utilizar la función `predict_proba` para obtener las probabilidades de salida para cada ejemplo. Esta función recibe la matriz $X$ de entrada (sin la columna de unos) y devuelve una matriz de $m \\times 2$. De esta matriz solo nos interesa la segunda columna que es la que tiene la probabilidad de que un ejemplo pertenezca a la clase 1. "
   ]
  },
  {
   "cell_type": "code",
   "execution_count": 23,
   "metadata": {
    "deletable": false,
    "nbgrader": {
     "checksum": "92ef60b3d6db13999417834bf6c33b18",
     "grade": true,
     "grade_id": "cell-4a53d520dd327647",
     "locked": false,
     "points": 1,
     "schema_version": 1,
     "solution": true
    }
   },
   "outputs": [
    {
     "data": {
      "image/png": "[encoded data removed]",
      "text/plain": [
       "<Figure size 432x360 with 1 Axes>"
      ]
     },
     "metadata": {
      "needs_background": "light"
     },
     "output_type": "display_data"
    }
   ],
   "source": [
    "# Se importa de la libreria scikit-learn de python (sklearn) el paquete correspondiente a la regresión lineal\n",
    "from sklearn.linear_model import LogisticRegression\n",
    "\n",
    "# Calculamos el mínimo y máximo de cada variable de entrada\n",
    "x1_min, x1_max = X[:,1].min(), X[:,1].max(),\n",
    "x2_min, x2_max = X[:,2].min(), X[:,2].max(),\n",
    "\n",
    "# Obtenemos todas las combinaciones de valores de las dos variables (comprendidos entre el mínimo y el máximo y espaciados linealmente)\n",
    "# Almacenar resultado en xx1, xx2\n",
    "xx1, xx2 = np.meshgrid(np.linspace(x1_min, x1_max), np.linspace(x2_min, x2_max))\n",
    "\n",
    "#solver : {‘newton-cg’, ‘lbfgs’, ‘liblinear’, ‘sag’}\n",
    "# Se incializa el modelo llamando al constructor de la regresión lineal: todos los parámetros se asignan a los valores comentados anteriores\n",
    "# Almacenar objeto en LogReg\n",
    "LogReg = LogisticRegression(penalty='l2', C=10.0e50, max_iter=400, solver='newton-cg')\n",
    "\n",
    "# Se entrena el modelo (aprendizaje) utilizando la variable de entrada sin los unos X[:,1] y la variable de salida (y)\n",
    "# La función ravel devuelve una lista (si la entrada es una lista de listas coge todos los elementos y los almacena en la lista devuelta)\n",
    "LogReg.fit(X[:, 1:], y.ravel())\n",
    "\n",
    "# Se evalúan los valores creados anteriormente para comparar ambos modelos aprendidos. Utiliza LogReg.predict_proba y almacena\n",
    "# la probabilidad de que sea de la clase 1 en h\n",
    "h = LogReg.predict_proba(np.hstack((xx1.reshape(-1, 1), xx2.reshape(-1, 1))))[:, 1]\n",
    "h = h.reshape(xx1.shape)\n",
    "\n",
    "\n",
    "# En primer lugar, muestra la gráfica de los datos\n",
    "muestraGrafica(datos, 'Nota en el examen 1', 'Nota en el examen 2', 'Admitido', 'No admitido')\n",
    "# Mostramos el punto que hemos clasificado anteriormente como un triángulo rojo\n",
    "plt.scatter(45, 85, s=60, c='r', marker='v', label='(45, 85)')\n",
    "# Mostramos con una línea azul todos las combinaciones cuya probabilidad de admisión sea 0.5 (equiprobable: no sabemos elegir)\n",
    "plt.contour(xx1, xx2, h, [0.5], linewidths=1, colors='b');"
   ]
  },
  {
   "cell_type": "markdown",
   "metadata": {
    "deletable": false,
    "editable": false,
    "nbgrader": {
     "checksum": "1340290a5cf164b22cab904ebac65121",
     "grade": false,
     "grade_id": "cell-34de22b1e7533cc4",
     "locked": true,
     "schema_version": 1,
     "solution": false
    }
   },
   "source": [
    "### Regresión logística con regularización\n",
    "\n",
    "En la segunda parte de la práctica vamos a trabajar con un nuevo problema de clasificación. En este caso se trata de predecir si un microchip pasa los tests de calidad o no. Para ello, a cada microchip se le realizan dos tests, cuyos resultados se almacenan en un archivo que contiene los datos históricos de 118 microchips. Por tanto, para cada microchip se tienen dos variables de entrada (los resultados de los dos tests) y la variable de salida que tiene dos valores: pasa el test de calidad, son aceptados, (1) o no, son rechazados, (0). Los datos de este problema están almacenados en el fichero llamado ex2data2.txt cuyo delimitador también es la coma (,).\n",
    "\n",
    "Realiza la llamada a la función que realiza la lectura de los ficheros y almacena los datos."
   ]
  },
  {
   "cell_type": "code",
   "execution_count": 24,
   "metadata": {
    "deletable": false,
    "nbgrader": {
     "checksum": "14da50a115bdaa42cccb54441df031ad",
     "grade": false,
     "grade_id": "cell-2c85d632840a63a2",
     "locked": false,
     "schema_version": 1,
     "solution": true
    }
   },
   "outputs": [
    {
     "name": "stdout",
     "output_type": "stream",
     "text": [
      "Dimensiones de los datos:  (118, 3)\n",
      "[[ 0.051267  0.69956   1.      ]\n",
      " [-0.092742  0.68494   1.      ]\n",
      " [-0.21371   0.69225   1.      ]\n",
      " [-0.375     0.50219   1.      ]\n",
      " [-0.51325   0.46564   1.      ]]\n"
     ]
    }
   ],
   "source": [
    "# Lee los datos en data2\n",
    "data2 = lecturaDatos('ex2data2.txt', ',')"
   ]
  },
  {
   "cell_type": "markdown",
   "metadata": {
    "deletable": false,
    "editable": false,
    "nbgrader": {
     "checksum": "9e7b21e1d78c7ee79c4614914ed96d31",
     "grade": false,
     "grade_id": "cell-00f4461909987a30",
     "locked": true,
     "schema_version": 1,
     "solution": false
    }
   },
   "source": [
    "Crea las variables de entrada ($X$) y de salida ($y$).\n",
    "\n",
    "En este caso no añadas la columna de unos a $X$ ya que vamos a realizar alguna que otra transformación antes."
   ]
  },
  {
   "cell_type": "code",
   "execution_count": 25,
   "metadata": {
    "deletable": false,
    "nbgrader": {
     "checksum": "2a3706cee4a8f37bafcf4bc5cac4153c",
     "grade": false,
     "grade_id": "cell-43d86f8b3ed2c789",
     "locked": false,
     "schema_version": 1,
     "solution": true
    }
   },
   "outputs": [
    {
     "name": "stdout",
     "output_type": "stream",
     "text": [
      "(118, 2)\n"
     ]
    }
   ],
   "source": [
    "X = data2[:, :-1]\n",
    "y = data2[:, -1].reshape(-1, 1)\n",
    "print(X.shape)"
   ]
  },
  {
   "cell_type": "code",
   "execution_count": 26,
   "metadata": {
    "deletable": false,
    "editable": false,
    "nbgrader": {
     "checksum": "037e35f284bbdbdcc79a652803e80b10",
     "grade": true,
     "grade_id": "cell-f2805c85653e5bba",
     "locked": true,
     "points": 1,
     "schema_version": 1,
     "solution": false
    }
   },
   "outputs": [
    {
     "name": "stdout",
     "output_type": "stream",
     "text": [
      "1 test passed.\n",
      "1 test passed.\n"
     ]
    }
   ],
   "source": [
    "Test.assertEquals(list(X[0,:]), [0.051267, 0.69955999999999996], 'X no está bien formada')\n",
    "Test.assertEquals(list(y[:5, 0]), [1.0, 1.0, 1.0, 1.0, 1.0], 'y no está bien formada')"
   ]
  },
  {
   "cell_type": "markdown",
   "metadata": {
    "deletable": false,
    "editable": false,
    "nbgrader": {
     "checksum": "f40e9b8c3421b04bf769a3a00f12189d",
     "grade": false,
     "grade_id": "cell-4b763314c06b465c",
     "locked": true,
     "schema_version": 1,
     "solution": false
    }
   },
   "source": [
    "Llama a la función que muestra la gráfica con los ejemplos del histórico de microchips y nombra correctamente los ejes y lo títulos de la leyenda. La clase positiva (1) son los microchips aceptados y la clase negativa (0) los rechazados."
   ]
  },
  {
   "cell_type": "code",
   "execution_count": 27,
   "metadata": {
    "deletable": false,
    "nbgrader": {
     "checksum": "7eed7acdc1b3adee84f8ff6f8712b9bf",
     "grade": false,
     "grade_id": "cell-9cf63cd20ef7947f",
     "locked": false,
     "schema_version": 1,
     "solution": true
    }
   },
   "outputs": [
    {
     "data": {
      "image/png": "[encoded data removed]",
      "text/plain": [
       "<Figure size 432x360 with 1 Axes>"
      ]
     },
     "metadata": {
      "needs_background": "light"
     },
     "output_type": "display_data"
    }
   ],
   "source": [
    "muestraGrafica(data2, 'Test 1 del microchip', 'Test 2 del microchip', 'Aceptado', 'Rechazado', axes=None)"
   ]
  },
  {
   "cell_type": "markdown",
   "metadata": {
    "deletable": false,
    "editable": false,
    "nbgrader": {
     "checksum": "2caaa099455a4b104c411886d5b321ed",
     "grade": false,
     "grade_id": "cell-fb409283290c76b1",
     "locked": true,
     "schema_version": 1,
     "solution": false
    }
   },
   "source": [
    "Parece evidente que en este caso los ejemplos no son linealmente separables y vamos a tener que crear variables polinómicas."
   ]
  },
  {
   "cell_type": "markdown",
   "metadata": {
    "deletable": false,
    "editable": false,
    "nbgrader": {
     "checksum": "a7178b72e01cab18d34ef62d11776bd4",
     "grade": false,
     "grade_id": "cell-b05c2329b3569425",
     "locked": true,
     "schema_version": 1,
     "solution": false
    }
   },
   "source": [
    "#### Polinomios\n",
    "\n",
    "Como podemos ver en la gráfica anterior los ejemplos no son linealmente separables. Por este motivo, en primer lugar, vamos a crear nuevas variables del modelo que nos permitan obtener fronteras de decisión no lineales. Para ello vamos a utilizar la función `PolynomialFeatures` que nos provee scikit-learn: http://scikit-learn.org/stable/modules/generated/sklearn.preprocessing.PolynomialFeatures.html\n",
    "\n",
    "Sigue los siguientes pasos:\n",
    "* Aplicar la función PolynomialFeatures pasando como parámetro de entrada el valor 6 ya que vamos a generar todos los términos polinómicos de $x_1$ y $x_2$ hasta la potencia 6: en total hay 28 combinaciones (por tanto se generan 28 variables).\n",
    "* Una vez creado el objeto que nos permite realizar dicha transformación llamamos a la función `fit_transform` utilizando como parámetro la matriz $X$ que contiene los valores de las variables de entrada de nuestro problema.\n",
    "* Esta función tiene dos partes (fit y transform)\n",
    "    * La parte fit aprende los polinomios para generar las nuevas variables\n",
    "    * La parte transform aplica los polinomios generados para transformar los datos de entrada y que como consecuencia pasemos de tener dos variables de entrada a 28.\n",
    "\n",
    "**NOTA:** los términos polinómicos de las variables $a$ y $b$ hasta la potencia $p=3$ serían: $1, a, b, a^2, b^2, a^3, b^3, a \\cdot b, a \\cdot b^2, a^2\\cdot b^2$\n",
    "* Es decir, cada variable se eleva a todas las potencias entre 0 y p, y las combinaciones entre ellas no incluyen los términos elevados a p"
   ]
  },
  {
   "cell_type": "code",
   "execution_count": 56,
   "metadata": {
    "deletable": false,
    "nbgrader": {
     "checksum": "e4d9391ffea53c6418b35d1eda1b3099",
     "grade": false,
     "grade_id": "cell-c033e7bac229d8b8",
     "locked": false,
     "schema_version": 1,
     "solution": true
    }
   },
   "outputs": [
    {
     "name": "stdout",
     "output_type": "stream",
     "text": [
      "(118, 28)\n"
     ]
    }
   ],
   "source": [
    "from sklearn.preprocessing import PolynomialFeatures\n",
    "\n",
    "# Almacena en XX el nuevo conjunto de datos transformado\n",
    "poly = PolynomialFeatures(6)\n",
    "XX = poly.fit_transform(X)\n",
    "print(XX.shape)"
   ]
  },
  {
   "cell_type": "markdown",
   "metadata": {
    "deletable": false,
    "editable": false,
    "nbgrader": {
     "checksum": "956660d10c6cd5ef0c08c9cf252c0dd9",
     "grade": false,
     "grade_id": "cell-c5ab5c201d58fbf9",
     "locked": true,
     "schema_version": 1,
     "solution": false
    }
   },
   "source": [
    "#### Función de coste regularizada\n",
    "Al haber añadido tantas variables, corremos el serio riesgo de ajustarnos demasiado a los datos de entrenamiento (sobreaprender) y por tanto de no generalizar bien para nuevos ejemplos. Por ello, vamos a implementar la regresión logística con regularización en la que se penalizan aquellos parámetros con valores muy grandes, haciendo que el modelo no pueda ajustarse perfectamente a los datos de entrenamiento con el objetivo de obtener una mejor generalización.\n",
    "\n",
    "Veamos cómo cambia la función de coste.\n",
    "* Observar que se introduce el sumatorio de los parámetros $\\theta$ al cuadrado ponderado por el valor del parámetro $\\lambda$\n",
    "    * Si $\\lambda=0$ obtenemos la función de coste implementada en la primera parte de la práctica\n",
    "    * Si $\\lambda>0$ la función de coste trata de disminuir el valor de los parámetros $\\theta$ del modelo\n",
    "        * A mayor valor de $\\lambda$ menores serán los valores de los parámetros $\\theta$ que obtenedremos ya que trataremos de minimizarlos (al ser parte de la la función de coste)\n",
    "    \n",
    "#### $$ J(\\theta) = -\\frac{1}{m}\\sum_{i=1}^{m}\\big[y^{(i)}\\, log\\,( h_\\theta\\,(x^{(i)}))+(1-y^{(i)})\\,log\\,(1-h_\\theta(x^{(i)}))\\big] + \\frac{\\lambda}{2m}\\sum_{j=1}^{n}\\theta_{j}^{2}$$\n",
    "#### Función de coste vectorizada\n",
    "\n",
    "#### $$ J(\\theta) = -\\frac{1}{m}\\big((\\,log\\,(h_\\theta(X))^Ty+(\\,log\\,(1-h_\\theta(X))^T(1-y)\\big) + \\frac{\\lambda}{2m}\\sum_{j=1}^{n}\\theta_{j}^{2}$$\n",
    "\n",
    "donde\n",
    "\n",
    "$$ h_\\theta(X) = g(X\\cdot \\theta) $$"
   ]
  },
  {
   "cell_type": "markdown",
   "metadata": {
    "deletable": false,
    "editable": false,
    "nbgrader": {
     "checksum": "6f9935e65c6e2b07e810b4216bf49e3c",
     "grade": false,
     "grade_id": "cell-f97d622661953921",
     "locked": true,
     "schema_version": 1,
     "solution": false
    }
   },
   "source": [
    "Ahora, implementa la función de coste que inluye la regularización. Para ello se debe seguir usando la función sigmoide definida en la primera parte de la práctica.\n",
    "\n",
    "**CUIDADO: Recuerda que el $\\theta_0$ no se regulariza.**"
   ]
  },
  {
   "cell_type": "code",
   "execution_count": 29,
   "metadata": {
    "deletable": false,
    "nbgrader": {
     "checksum": "e9048b7376fc6fcfdf8c3ec53edd8dfe",
     "grade": false,
     "grade_id": "cell-ec2b45a02f412f29",
     "locked": false,
     "schema_version": 1,
     "solution": true
    }
   },
   "outputs": [],
   "source": [
    "def funcionCosteRegularizada(theta, valorLambda, XX, y):\n",
    "    m = y.size\n",
    "    h = sigmoide(XX.dot(theta))    \n",
    "    \n",
    "    with np.errstate(divide='raise'):\n",
    "        try:\n",
    "            r = (valorLambda / (2 * m)) * np.sum(np.square(theta[1:]))\n",
    "            J = (-1 / m) * (   (np.log(h).T.dot(y)) + (np.log(1 - h).T).dot(1 - y) ) + r\n",
    "        except FloatingPointError: J = np.inf\n",
    "    \n",
    "    \n",
    "    return J"
   ]
  },
  {
   "cell_type": "markdown",
   "metadata": {
    "deletable": false,
    "editable": false,
    "nbgrader": {
     "checksum": "28ef1857dff9408683022877191f0d19",
     "grade": false,
     "grade_id": "cell-af0f100f025bc98b",
     "locked": true,
     "schema_version": 1,
     "solution": false
    }
   },
   "source": [
    "Vamos a seguir los mismos pasos que antes para implementar la regresión logística regularizada. Para poder usar la función `minimize`, debemos crear una función que calcule las derivadas parciales de los parámetros. Recordamos las derivadas parciales de la regresión logística regularizada\n",
    "\n",
    "#### Derivada parcial\n",
    "\n",
    "#### $$ \\frac{\\delta J(\\theta)}{\\delta\\theta_{j}} = \\frac{1}{m}\\sum_{i=1}^{m} ( h_\\theta (x^{(i)})-y^{(i)})\\cdot x^{(i)}_{j} + \\frac{\\lambda}{m}\\theta_{j}$$ \n",
    "####  Derivada parcial vectorizada\n",
    "#### $$ \\frac{\\delta J(\\theta)}{\\delta\\theta_{j}} = \\frac{1}{m} X^T(h_\\theta(X)-y) + \\frac{\\lambda}{m}\\theta_{j}$$\n",
    "\n",
    "**CUIDADO: Recuerda que el $\\theta_0$ no se regulariza.**"
   ]
  },
  {
   "cell_type": "markdown",
   "metadata": {
    "deletable": false,
    "editable": false,
    "nbgrader": {
     "checksum": "e2f48fac0bb2e8f4b20dd6f0b7821065",
     "grade": false,
     "grade_id": "cell-9f897fe4314197c4",
     "locked": true,
     "schema_version": 1,
     "solution": false
    }
   },
   "source": [
    "Definir la función que realiza la derivada parcial de los parámetros de la regresión logística regularizada en base al error cometido. Para ello se debe aplicar la ecuación de la derivada parcial vectorizada.\n",
    "\n",
    "**NOTA: Esta función la vamos a usar en una función minimize que realizará el descenso por gradiente. Dicha función en vez de pasar theta como una matriz de (3, 1), nos pasará una de (3, ) por lo que debes hacer un reshape antes de realizar el producto entre X y theta**"
   ]
  },
  {
   "cell_type": "code",
   "execution_count": 30,
   "metadata": {
    "deletable": false,
    "nbgrader": {
     "checksum": "df5fae34a9317edb0748c6d479ab1d04",
     "grade": false,
     "grade_id": "cell-6483f65ece675ee7",
     "locked": false,
     "schema_version": 1,
     "solution": true
    }
   },
   "outputs": [],
   "source": [
    "def derivadaParcialRegularizada(theta, valorLambda, XX, y):\n",
    "    m = y.size\n",
    "    theta = theta.reshape(-1, 1)\n",
    "\n",
    "    h = sigmoide(XX.dot(theta))\n",
    "    \n",
    "    derParcial = (1 / m) * XX.T.dot(h - y) + np.vstack((0,valorLambda/m * theta[1:]))\n",
    "        \n",
    "    return(derParcial.flatten()) # La salida debe ser un vector"
   ]
  },
  {
   "cell_type": "markdown",
   "metadata": {
    "deletable": false,
    "editable": false,
    "nbgrader": {
     "checksum": "98876dea2f0aa2a0bcca5b86d9d33b58",
     "grade": false,
     "grade_id": "cell-a6dee12b43786e7c",
     "locked": true,
     "schema_version": 1,
     "solution": false
    }
   },
   "source": [
    "Ejercicio:\n",
    "* Inicializa los valores iniciales de la regresión logística a una columna de ceros\n",
    "* Llama a la función que calcula el coste del modelo con los datos transformados ($XX$) mediante los polinomios aprendidos previamente y el parámetro $\\lambda=1.0$.\n",
    "* Llama a la función que calcula la derivada parcial con los mismos parámetros y comprueba que funciona correctamente."
   ]
  },
  {
   "cell_type": "code",
   "execution_count": 31,
   "metadata": {
    "deletable": false,
    "nbgrader": {
     "checksum": "949cdf2ca94d32a680dc981c03d0dda0",
     "grade": false,
     "grade_id": "cell-3f9ef1aee006a612",
     "locked": false,
     "schema_version": 1,
     "solution": true
    }
   },
   "outputs": [
    {
     "name": "stdout",
     "output_type": "stream",
     "text": [
      "Coste del modelo inicial: \n",
      " [0.69314718]\n",
      "Derivada parcial: \n",
      " [8.47457627e-03 1.87880932e-02 7.77711864e-05 5.03446395e-02\n",
      " 1.15013308e-02 3.76648474e-02 1.83559872e-02 7.32393391e-03\n",
      " 8.19244468e-03 2.34764889e-02 3.93486234e-02 2.23923907e-03\n",
      " 1.28600503e-02 3.09593720e-03 3.93028171e-02 1.99707467e-02\n",
      " 4.32983232e-03 3.38643902e-03 5.83822078e-03 4.47629067e-03\n",
      " 3.10079849e-02 3.10312442e-02 1.09740238e-03 6.31570797e-03\n",
      " 4.08503006e-04 7.26504316e-03 1.37646175e-03 3.87936363e-02]\n"
     ]
    }
   ],
   "source": [
    "# Columna de ceros como valores inciales de los parametros del modelo (guardar en thetaInicial)\n",
    "thetaInicial = np.zeros((XX.shape[1]))\n",
    "# Llamada a la funcion que calcula el coste del modelo inicial (guardar en coste)\n",
    "coste = funcionCosteRegularizada(thetaInicial, 1.0, XX, y)\n",
    "# Llamada a la funcion que realiza la derivada parcial (guardar en derParcial)\n",
    "derParcial = derivadaParcialRegularizada(thetaInicial, 1.0, XX, y)\n",
    "\n",
    "print('Coste del modelo inicial: \\n', coste)\n",
    "print('Derivada parcial: \\n', derParcial)"
   ]
  },
  {
   "cell_type": "code",
   "execution_count": 32,
   "metadata": {
    "deletable": false,
    "editable": false,
    "nbgrader": {
     "checksum": "f0457323d894e6678de3b2701e313988",
     "grade": true,
     "grade_id": "cell-c02b6fb465a59e00",
     "locked": true,
     "points": 2,
     "schema_version": 1,
     "solution": false
    }
   },
   "outputs": [
    {
     "name": "stdout",
     "output_type": "stream",
     "text": [
      "1 test passed.\n",
      "1 test passed.\n"
     ]
    }
   ],
   "source": [
    "Test.assertEquals(np.round(coste, 5), 0.69315,'Valor de coste incorrecto')\n",
    "Test.assertEquals(list(np.round(derParcial[0:5], 5)), [0.00847, 0.01879, 8e-05, 0.05034, 0.0115], 'Valores de la derivada parcial incorrectos')"
   ]
  },
  {
   "cell_type": "markdown",
   "metadata": {
    "deletable": false,
    "editable": false,
    "nbgrader": {
     "checksum": "bba38c3350e164e022e3f66cc98a854f",
     "grade": false,
     "grade_id": "cell-f7020e4a6b45f2d9",
     "locked": true,
     "schema_version": 1,
     "solution": false
    }
   },
   "source": [
    "### Efecto de $\\lambda$ en los resultados\n",
    "Por último vamos a analizar el efecto del parámetro $\\lambda$ en los resultados obtenidos. Para ello vamos a analizar 3 valores: 0, 1 y 100. Para cada valor hay que realizar el siguiente proceso:\n",
    "* Llamar a la función `minimize` (descenso por gradiente) pasando como argumentos de entrada:\n",
    "    * La función que calcula el coste del modelo\n",
    "    * Los valores iniciales del modelo que acabamos de asignar (**en una fila**)\n",
    "    * Una tupla que contiene: el valor de $\\lambda$, los datos transformados con los polinomios (XX) y las clases de los 118 ejemplos (parámetro args)\n",
    "    * La función que realiza la derivada parcial de los parámetros del modelo (parámetro jac)\n",
    "    * El número máximo de iteraciones que lo fijamos a 3000\n",
    "* Realizar la predicción de los ejemplos del histórico (datos guardados en XX) con el modelo aprendido (res2.x, que debes transformarlo a una columna) **(llamada a la función prediccion definida anteriormente)**\n",
    "* Calcular el porcentaje de acierto del modelo (se calcula como se ha realizado en la primera parte de la práctica)\n",
    "* Mostrar la gráfica con la frontera de decisión generada por el modelo aprendido (llamada a la función que muestra los datos y sobre la cual mostramos la frontera de decisión generada siguiendo el ejemplo de la primera parte de la prácitca)\n",
    "    * Como título de la figura mostrar el valor de $\\lambda$, el porcentaje de acierto\n",
    "* Mostrar los valores de los parámetros del modelo (print)\n",
    "\n",
    "Deberías ser capaz de obtener las siguientes figura:\n",
    "![Ejemplo](img6.png \"Ejemplo\")\n"
   ]
  },
  {
   "cell_type": "code",
   "execution_count": 50,
   "metadata": {
    "deletable": false,
    "nbgrader": {
     "checksum": "6bcd4afa1a447f9d802f6daf4fe24d91",
     "grade": true,
     "grade_id": "cell-1aaf69cbd13a781f",
     "locked": false,
     "points": 2,
     "schema_version": 1,
     "solution": true
    }
   },
   "outputs": [
    {
     "name": "stderr",
     "output_type": "stream",
     "text": [
      "C:\\Users\\javie\\Anaconda3\\lib\\site-packages\\ipykernel_launcher.py:2: RuntimeWarning: overflow encountered in exp\n",
      "  \n"
     ]
    },
    {
     "name": "stdout",
     "output_type": "stream",
     "text": [
      "Los valores de theta para lambda = 0.0  son [   35.10189059    44.11913065    69.27186415  -344.27887491\n",
      "  -198.23454286  -184.22833064  -295.8202461   -621.73266075\n",
      "  -510.84932739  -328.31184667  1094.69984596  1269.5856495\n",
      "  1757.74846474   900.93757436   436.58877019   471.12012754\n",
      "  1236.23878305  1822.82058176  1929.66782631  1131.05327437\n",
      "   463.79936762 -1142.11697343 -2020.95915494 -3463.39950565\n",
      " -3484.51063366 -3252.26725151 -1546.00918849  -510.41272817] \n",
      "\n",
      "Los valores de theta para lambda = 1.0  son [ 1.27268739  0.62557016  1.1809665  -2.01919822 -0.91761468 -1.43194199\n",
      "  0.12375921 -0.36513086 -0.35703388 -0.17485805 -1.45843772 -0.05129676\n",
      " -0.61603963 -0.2746414  -1.19282569 -0.24270336 -0.20570022 -0.04499768\n",
      " -0.27782709 -0.29525851 -0.45613294 -1.04377851  0.02762813 -0.29265642\n",
      "  0.01543393 -0.32759318 -0.14389199 -0.92460119] \n",
      "\n",
      "Los valores de theta para lambda = 100.0  son [ 0.02188603 -0.01748169  0.00571031 -0.0551694  -0.01314888 -0.03859919\n",
      " -0.01846356 -0.00773236 -0.00892434 -0.02280491 -0.04343876 -0.00235623\n",
      " -0.01415631 -0.00349509 -0.04143634 -0.02100597 -0.00471924 -0.00359133\n",
      " -0.00632236 -0.00502443 -0.03197706 -0.03416353 -0.00107628 -0.00702623\n",
      " -0.00038506 -0.0079824  -0.00154778 -0.04108711] \n",
      "\n"
     ]
    },
    {
     "data": {
      "image/png": "[encoded data removed]",
      "text/plain": [
       "<Figure size 1224x360 with 3 Axes>"
      ]
     },
     "metadata": {
      "needs_background": "light"
     },
     "output_type": "display_data"
    }
   ],
   "source": [
    "# Queremos una figura con 3 subplots\n",
    "fig, axes = plt.subplots(1,3, sharey = True, figsize=(17,5))\n",
    "\n",
    "# Fronteras de decisión\n",
    "# Lambda = 0 : No se realiza regularización --> modelo muy flexible: sobre-entrenado\n",
    "# Lambda = 1 : Parece que es un buen modelo: simple y preciso\n",
    "# Lambda = 100 : Demasiada regularización: mucho bías\n",
    "\n",
    "poly = PolynomialFeatures(6)\n",
    "x1_min, x1_max = XX[:,1].min(), XX[:,1].max(),\n",
    "x2_min, x2_max = XX[:,2].min(), XX[:,2].max(),\n",
    "xx1, xx2 = np.meshgrid(np.linspace(x1_min, x1_max), np.linspace(x2_min, x2_max))\n",
    "xx = poly.fit_transform(np.hstack((xx1.reshape(-1,1), xx2.reshape(-1, 1))))\n",
    "\n",
    "# Crea la variable valoresLambda\n",
    "valoresLambda = np.array([0.0, 1.0, 100.0])\n",
    "for i, valorLambda in enumerate(valoresLambda):\n",
    "    # Optimización de los parámetros del modelo en base a la función de coste, utilizar minimize\n",
    "    res2 = minimize(funcionCosteRegularizada, thetaInicial, args=(valorLambda, XX, y), jac=derivadaParcialRegularizada, options={'maxiter':3000})\n",
    "    # Ponemos los parámetros que están en res2.x en formato columna con reshape (guardar en thetas)\n",
    "    thetas = res2.x.reshape(-1, 1)\n",
    "    \n",
    "    # Obtener las predicciones del modelo (thetas) para los datos transformados con los polinomios (XX)\n",
    "    p = prediccion(thetas, XX)\n",
    "    \n",
    "    # Calcular el porcentaje de acierto como hemos realizado en la primera parte de la práctica\n",
    "    boolean_array = (p == y)\n",
    "    correct = np.sum(boolean_array)\n",
    "    accuracy = correct / p.size * 100\n",
    "    \n",
    "    # Gráfica que muestra los ejemplos, utiliza como último parámetro axes.flatten()[i] (le pasamos el manejador de la figura correspondiente)\n",
    "    muestraGrafica(data2, 'Test 1 del microchip', 'Test 2 del microchip', 'Aceptado', 'Rechazado', axes=axes.flatten()[i])\n",
    "    axes[i].set_title('Porcentaje de acierto ' + str(np.round(accuracy, 2)) + \"% con Lambda = \" + str(valorLambda))\n",
    "    \n",
    "    # Mostramos la frontera de decisión\n",
    "    h = sigmoide(xx.dot(thetas))\n",
    "    h = h.reshape(xx1.shape)\n",
    "    \n",
    "    axes[i].contour(xx1, xx2, h, [0.5], linewidths=1, colors='b')\n",
    "    \n",
    "    # Mostrar los valores de theta para cada lambda \"Los valores de theta para lambda = XX son [a, b, c...]\"\n",
    "    print(\"Los valores de theta para lambda =\", valorLambda, \" son\", thetas.flatten(), \"\\n\")"
   ]
  },
  {
   "cell_type": "code",
   "execution_count": 43,
   "metadata": {
    "deletable": false,
    "editable": false,
    "nbgrader": {
     "checksum": "28a5d6b56b461d6902d37ef0bf7b5f89",
     "grade": true,
     "grade_id": "cell-87712bf61fc2ca91",
     "locked": true,
     "points": 2,
     "schema_version": 1,
     "solution": false
    }
   },
   "outputs": [
    {
     "name": "stdout",
     "output_type": "stream",
     "text": [
      "1 test passed.\n"
     ]
    }
   ],
   "source": [
    "Test.assertEqualsNP(np.round(thetas.T, 4), np.round([[ 0.02188603, -0.01748169,  0.00571031, -0.0551694 , -0.01314888,\n",
    "        -0.03859919, -0.01846356, -0.00773236, -0.00892434, -0.02280491,\n",
    "        -0.04343876, -0.00235623, -0.01415631, -0.00349509, -0.04143634,\n",
    "        -0.02100597, -0.00471924, -0.00359133, -0.00632236, -0.00502443,\n",
    "        -0.03197706, -0.03416353, -0.00107628, -0.00702623, -0.00038506,\n",
    "        -0.0079824 , -0.00154778, -0.04108711]], 4), 'Valor de thetas con lambda = 100 incorrecto' )"
   ]
  },
  {
   "cell_type": "markdown",
   "metadata": {
    "deletable": false,
    "editable": false,
    "nbgrader": {
     "checksum": "e85c713d42e7d4418a70984ec5aee9f6",
     "grade": false,
     "grade_id": "cell-484c290dec1b9dcb",
     "locked": true,
     "schema_version": 1,
     "solution": false
    }
   },
   "source": [
    "### Conclusiones\n",
    "\n",
    "Podéis observar los siguientes hechos:\n",
    "* Con $\\lambda=0$ el modelo obtenido es muy complejo puesto que está muy ajustado a los datos con los que ha sido aprendido. El porcentaje de acierto es muy alto (91.53%) y los valores de los parámetros $\\theta$ son **muy altos**\n",
    "* Con $\\lambda=1$ el modelo obtenido es más sencillo y ofrece un buen balance entre complejidad y porcentaje de acierto (83.05%). Los valores de los parámetros $\\theta$ son más bajos que antes.\n",
    "* Con $\\lambda=100$ el modelo obtenido es muy sencillo pero no se ajusta bien a los datos de entrenamiento y por tanto se obtiene un porcentaje de acierto muy bajo para este problema (61.02%). Los valores de los parámetros $\\theta$ son muy bajos."
   ]
  },
  {
   "cell_type": "markdown",
   "metadata": {
    "deletable": false,
    "editable": false,
    "nbgrader": {
     "checksum": "c0ebaad774dfd995b2382bf76842cda4",
     "grade": false,
     "grade_id": "cell-b629fb0cee942726",
     "locked": true,
     "schema_version": 1,
     "solution": false
    }
   },
   "source": [
    "### Regresión logística regularizada con Scikit-learn\n",
    "En este apartado vamos a tratar de replicar el resultado anterior con el paquete scikit-learn: http://scikit-learn.org/stable/modules/generated/sklearn.linear_model.LogisticRegression.html#sklearn.linear_model.LogisticRegression\n",
    "\n",
    "Para ello, vamos a volver a pintar las gráficas anteriores pero entrenaremos el modelo con la clase LogisticRegression de scikit-learn. \n",
    " \n",
    "`LogisticRegression` requiere de los siguientes parámetros:\n",
    "* penalty: Elegir 'l2' (es el tipo de regularización a realizar)\n",
    "* C: Es el valor que corresponde a lambda, pero en este caso $ C = 1/\\lambda$. Tenlo en cuenta a la hora de establecer el valor de C. Cuando no queremos aplicar la regularización, este valor debe ser muy alto, por lo que el valor de lambda debe ser muy bajo, por ejemplo $lambda =0.1e-100$\n",
    "* max_iter: Número máximo de iteraciones para el descenso por gradiente (400)\n",
    "* solver: Este es el método a utilizar para buscar el mínimo. Puede ser cualquiera de entre {‘newton-cg’, ‘lbfgs’, ‘liblinear’, ‘sag’}. Utilizar newton-cg para esta prueba\n",
    "\n",
    "Una vez creado el objeto de `LogisticRegression` debes utilizar el método `fit`. Como entrada toma la matriz $X$ (**CUIDADO** sin coger la columna de unos) y el vector $y$ (ponerlo en modo vector usando ravel).\n",
    "\n",
    "Con dicha operación logramos ajustar los parámetros y ya podemos usar el objeto para predecir nuevos valores (los coeficientes obtenidos están en coef$\\_$ y intercept$\\_$, pero es más sencillo utilizar la función `predict_proba` para obtener las probabilidades de salida para cada ejemplo. Esta función recibe la matriz $X$ de entrada (sin la columna de unos) y devuelve una matriz de $m \\times 2$. De esta matriz solo nos interesa la segunda columna que es la que tiene la probabilidad de que un ejemplo pertenezca a la clase 1. \n",
    "\n",
    "Utiliza los conocimientos adquiridos en la primera parte de la práctica y en el ejercicio anterior para obtener unas figuras lo más parecidas posibles a las anteriores.\n",
    "\n",
    "**Nota:** Para calcular el porcentaje de acierto puedes usar el método `LogisticRegression.predict()` que devuelve la clase asignada a cada ejemplo."
   ]
  },
  {
   "cell_type": "code",
   "execution_count": 54,
   "metadata": {
    "deletable": false,
    "nbgrader": {
     "checksum": "d6cfc97b54636aa1509aeee52ac49b9a",
     "grade": true,
     "grade_id": "cell-e1e090165ec4ebd7",
     "locked": false,
     "points": 2,
     "schema_version": 1,
     "solution": true
    }
   },
   "outputs": [
    {
     "name": "stdout",
     "output_type": "stream",
     "text": [
      "(118, 2) (118, 28) (2500, 28)\n",
      "Los valores de theta para lambda = 1e-101  son [   38.20523148    55.60095127    97.73255193  -369.38717015\n",
      "  -177.16522902  -194.08129426  -366.43455132  -840.27253238\n",
      "  -716.55162049  -508.6621443   1183.09666102  1279.24665654\n",
      "  1905.80936534   912.72100449   512.52869752   574.32560921\n",
      "  1628.79029726  2547.16255821  2904.77430556  1768.68040789\n",
      "   778.90667621 -1258.77142851 -2260.37834617 -4139.27297509\n",
      " -4279.78293643 -4211.73761329 -2043.65083725  -745.04937088] \n",
      "\n",
      "(118, 2) (118, 28) (2500, 28)\n",
      "Los valores de theta para lambda = 1.0  son [ 1.27273852  0.62527427  1.18107953 -2.01995701 -0.91743361 -1.43166228\n",
      "  0.12400943 -0.36552879 -0.35723375 -0.1751281  -1.45816817 -0.05099315\n",
      " -0.61556795 -0.27470949 -1.19281161 -0.24218951 -0.20599958 -0.04473522\n",
      " -0.27778736 -0.29537501 -0.45635027 -1.04321271  0.02777197 -0.29243756\n",
      "  0.0155633  -0.32738395 -0.14388956 -0.92464266] \n",
      "\n",
      "(118, 2) (118, 28) (2500, 28)\n",
      "Los valores de theta para lambda = 100.0  son [ 0.02187771 -0.01748172  0.00571079 -0.05516894 -0.01314876 -0.03859858\n",
      " -0.01846356 -0.00773219 -0.00892429 -0.02280452 -0.04343846 -0.00235623\n",
      " -0.01415612 -0.00349507 -0.04143588 -0.02100593 -0.00471917 -0.00359131\n",
      " -0.00632226 -0.0050244  -0.03197675 -0.03416335 -0.00107629 -0.00702615\n",
      " -0.00038506 -0.0079823  -0.00154779 -0.04108677] \n",
      "\n"
     ]
    },
    {
     "data": {
      "image/png": "[encoded data removed]",
      "text/plain": [
       "<Figure size 1224x360 with 3 Axes>"
      ]
     },
     "metadata": {
      "needs_background": "light"
     },
     "output_type": "display_data"
    }
   ],
   "source": [
    "# Se importa de la libreria scikit-learn de python (sklearn) el paquete correspondiente a la regresión lineal\n",
    "from sklearn.linear_model import LogisticRegression\n",
    "\n",
    "fig, axes = plt.subplots(1,3, sharey = True, figsize=(17,5))\n",
    "\n",
    "# Fronteras de decisión\n",
    "# Lambda = 0.1e-100 : No se realiza regularización --> modelo muy flexible: sobre-entrenado\n",
    "# Lambda = 1 : Parece que es un buen modelo: simple y preciso\n",
    "# Lambda = 100 : Demasiada regularización: mucho bías\n",
    "\n",
    "# Crea la variable valoresLambda\n",
    "valoresLambda = np.array([0.1e-100, 1, 100])\n",
    "\n",
    "for i, valorLambda in enumerate(valoresLambda):\n",
    " \n",
    "    # Se incializa el modelo llamando al constructor de la regresión lineal: todos los parámetros se asignan a los valores mencionados anteriormente\n",
    "    LogReg = LogisticRegression(penalty='l2', C=1/valorLambda, max_iter=400, solver='newton-cg')\n",
    "    # Utiliza fit para ajustar el modelo a los datos XX con clases y (recuerda no pasar la columna de 1's)\n",
    "    LogReg.fit(XX[:, 1:], y.ravel())\n",
    "\n",
    "\n",
    "    # Cálculo del porcentaje de acierto (recuerda no pasar la columna de 1's)\n",
    "    p = LogReg.predict(XX[:, 1:]).reshape(-1, 1)\n",
    "    #p = prediccion(np.hstack((LogReg.intercept_, LogReg.coef_[0, :])).reshape(-1, 1), XX)\n",
    "    boolean_array = (p == y)\n",
    "    correct = np.sum(boolean_array)\n",
    "    accuracy = correct / p.size * 100\n",
    "\n",
    "    # Gráfica que muestra los ejemplos, utiliza como último parámetro axes.flatten()[i] (le pasamos el manejador de la figura correspondiente)\n",
    "    muestraGrafica(data2, 'Test 1 del microchip', 'Test 2 del microchip', 'Aceptado', 'Rechazado', axes=axes.flatten()[i])\n",
    "    axes[i].set_title('Porcentaje de acierto ' + str(np.round(accuracy, 2)) + \"% con Lambda = \" + str(valorLambda))\n",
    "\n",
    "    # Mostramos la frontera de decisión, recuerda utilizar axes.flatten()[i] para utilizar el plot correspondiente\n",
    "    # Recuerda no pasar la columna de 1's al predecir\n",
    "    h = LogReg.predict_proba(xx[:, 1:])[:, 1]\n",
    "    h = h.reshape(xx1.shape)\n",
    "    axes[i].contour(xx1, xx2, h, [0.5], linewidths=1, colors='b')\n",
    "\n",
    "    # Mostrar los valores de theta para cada lambda \"Los valores de theta para lambda = XX son [a, b, c...]\"\n",
    "    print(\"Los valores de theta para lambda =\", valorLambda, \" son\", np.hstack((LogReg.intercept_, LogReg.coef_[0, :])), \"\\n\") "
   ]
  },
  {
   "cell_type": "code",
   "execution_count": 45,
   "metadata": {
    "deletable": false,
    "editable": false,
    "nbgrader": {
     "checksum": "ad8e083713fbf8da7d25d85ecf7051fb",
     "grade": true,
     "grade_id": "cell-2aff4614e3d7824c",
     "locked": true,
     "points": 2,
     "schema_version": 1,
     "solution": false
    }
   },
   "outputs": [
    {
     "name": "stdout",
     "output_type": "stream",
     "text": [
      "1 test passed.\n",
      "1 test passed.\n"
     ]
    }
   ],
   "source": [
    "Test.assertEqualsNP(np.round(LogReg.coef_, 4), np.round([[-0.01748172,  0.00571079, -0.05516894, -0.01314876, -0.03859858,\n",
    "        -0.01846356, -0.00773219, -0.00892429, -0.02280452, -0.04343846,\n",
    "        -0.00235623, -0.01415612, -0.00349507, -0.04143588, -0.02100593,\n",
    "        -0.00471917, -0.00359131, -0.00632226, -0.0050244 , -0.03197675,\n",
    "        -0.03416335, -0.00107629, -0.00702615, -0.00038506, -0.0079823 ,\n",
    "        -0.00154779, -0.04108677]], 4), 'Valor de LogReg.coef_ con lambda = 100 incorrecto' )\n",
    "Test.assertEqualsNP(np.round(LogReg.intercept_, 4), np.round([ 0.02187771], 4), 'Valor de LogReg.intercept_ con lambda = 100 incorrecto' )"
   ]
  },
  {
   "cell_type": "code",
   "execution_count": null,
   "metadata": {},
   "outputs": [],
   "source": []
  },
  {
   "cell_type": "code",
   "execution_count": null,
   "metadata": {},
   "outputs": [],
   "source": []
  }
 ],
 "metadata": {
  "anaconda-cloud": {},
  "kernelspec": {
   "display_name": "Python 3",
   "language": "python",
   "name": "python3"
  },
  "language_info": {
   "codemirror_mode": {
    "name": "ipython",
    "version": 3
   },
   "file_extension": ".py",
   "mimetype": "text/x-python",
   "name": "python",
   "nbconvert_exporter": "python",
   "pygments_lexer": "ipython3",
   "version": "3.6.10"
  }
 },
 "nbformat": 4,
 "nbformat_minor": 1
}
